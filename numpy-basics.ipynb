{
 "cells": [
  {
   "cell_type": "markdown",
   "id": "468f661b",
   "metadata": {
    "papermill": {
     "duration": 0.027977,
     "end_time": "2022-07-13T09:09:53.097986",
     "exception": false,
     "start_time": "2022-07-13T09:09:53.070009",
     "status": "completed"
    },
    "tags": []
   },
   "source": [
    "# NumPy Basics: Arrays and Vectorized Computation"
   ]
  },
  {
   "cell_type": "code",
   "execution_count": 1,
   "id": "dbe5ea81",
   "metadata": {
    "execution": {
     "iopub.execute_input": "2022-07-13T09:09:53.150026Z",
     "iopub.status.busy": "2022-07-13T09:09:53.149308Z",
     "iopub.status.idle": "2022-07-13T09:09:53.162267Z",
     "shell.execute_reply": "2022-07-13T09:09:53.160895Z"
    },
    "papermill": {
     "duration": 0.041782,
     "end_time": "2022-07-13T09:09:53.164894",
     "exception": false,
     "start_time": "2022-07-13T09:09:53.123112",
     "status": "completed"
    },
    "tags": []
   },
   "outputs": [],
   "source": [
    "import numpy as np\n",
    "np.random.seed(12345)\n",
    "import matplotlib.pyplot as plt\n",
    "plt.rc('figure', figsize=(10, 6))\n",
    "np.set_printoptions(precision=4, suppress=True)"
   ]
  },
  {
   "cell_type": "code",
   "execution_count": 2,
   "id": "9fd00f98",
   "metadata": {
    "execution": {
     "iopub.execute_input": "2022-07-13T09:09:53.216108Z",
     "iopub.status.busy": "2022-07-13T09:09:53.215711Z",
     "iopub.status.idle": "2022-07-13T09:09:53.259707Z",
     "shell.execute_reply": "2022-07-13T09:09:53.258267Z"
    },
    "papermill": {
     "duration": 0.073134,
     "end_time": "2022-07-13T09:09:53.262659",
     "exception": false,
     "start_time": "2022-07-13T09:09:53.189525",
     "status": "completed"
    },
    "tags": []
   },
   "outputs": [],
   "source": [
    "import numpy as np\n",
    "my_arr = np.arange(1000000)\n",
    "my_list = list(range(1000000))"
   ]
  },
  {
   "cell_type": "code",
   "execution_count": 3,
   "id": "e1a5e053",
   "metadata": {
    "execution": {
     "iopub.execute_input": "2022-07-13T09:09:53.313831Z",
     "iopub.status.busy": "2022-07-13T09:09:53.313387Z",
     "iopub.status.idle": "2022-07-13T09:09:54.088801Z",
     "shell.execute_reply": "2022-07-13T09:09:54.087320Z"
    },
    "papermill": {
     "duration": 0.803424,
     "end_time": "2022-07-13T09:09:54.090940",
     "exception": false,
     "start_time": "2022-07-13T09:09:53.287516",
     "status": "completed"
    },
    "tags": []
   },
   "outputs": [
    {
     "name": "stdout",
     "output_type": "stream",
     "text": [
      "CPU times: user 13.3 ms, sys: 10.9 ms, total: 24.2 ms\n",
      "Wall time: 24.5 ms\n",
      "CPU times: user 550 ms, sys: 192 ms, total: 742 ms\n",
      "Wall time: 742 ms\n"
     ]
    }
   ],
   "source": [
    "%time for _ in range(10): my_arr2 = my_arr * 2\n",
    "%time for _ in range(10): my_list2 = [x * 2 for x in my_list]"
   ]
  },
  {
   "cell_type": "markdown",
   "id": "34563faa",
   "metadata": {
    "papermill": {
     "duration": 0.02484,
     "end_time": "2022-07-13T09:09:54.141077",
     "exception": false,
     "start_time": "2022-07-13T09:09:54.116237",
     "status": "completed"
    },
    "tags": []
   },
   "source": [
    "## The NumPy ndarray: A Multidimensional Array Object"
   ]
  },
  {
   "cell_type": "code",
   "execution_count": 4,
   "id": "d416b394",
   "metadata": {
    "execution": {
     "iopub.execute_input": "2022-07-13T09:09:54.193616Z",
     "iopub.status.busy": "2022-07-13T09:09:54.193189Z",
     "iopub.status.idle": "2022-07-13T09:09:54.203688Z",
     "shell.execute_reply": "2022-07-13T09:09:54.202494Z"
    },
    "papermill": {
     "duration": 0.039769,
     "end_time": "2022-07-13T09:09:54.206361",
     "exception": false,
     "start_time": "2022-07-13T09:09:54.166592",
     "status": "completed"
    },
    "tags": []
   },
   "outputs": [
    {
     "data": {
      "text/plain": [
       "array([[-0.2047,  0.4789, -0.5194],\n",
       "       [-0.5557,  1.9658,  1.3934]])"
      ]
     },
     "execution_count": 4,
     "metadata": {},
     "output_type": "execute_result"
    }
   ],
   "source": [
    "import numpy as np\n",
    "# Generate some random data\n",
    "data = np.random.randn(2, 3)\n",
    "data"
   ]
  },
  {
   "cell_type": "code",
   "execution_count": 5,
   "id": "22c0055a",
   "metadata": {
    "execution": {
     "iopub.execute_input": "2022-07-13T09:09:54.259322Z",
     "iopub.status.busy": "2022-07-13T09:09:54.258492Z",
     "iopub.status.idle": "2022-07-13T09:09:54.266003Z",
     "shell.execute_reply": "2022-07-13T09:09:54.264876Z"
    },
    "papermill": {
     "duration": 0.036545,
     "end_time": "2022-07-13T09:09:54.268397",
     "exception": false,
     "start_time": "2022-07-13T09:09:54.231852",
     "status": "completed"
    },
    "tags": []
   },
   "outputs": [
    {
     "data": {
      "text/plain": [
       "array([[-0.4094,  0.9579, -1.0389],\n",
       "       [-1.1115,  3.9316,  2.7868]])"
      ]
     },
     "execution_count": 5,
     "metadata": {},
     "output_type": "execute_result"
    }
   ],
   "source": [
    "data * 10\n",
    "data + data"
   ]
  },
  {
   "cell_type": "code",
   "execution_count": 6,
   "id": "abc090eb",
   "metadata": {
    "execution": {
     "iopub.execute_input": "2022-07-13T09:09:54.321758Z",
     "iopub.status.busy": "2022-07-13T09:09:54.321357Z",
     "iopub.status.idle": "2022-07-13T09:09:54.326926Z",
     "shell.execute_reply": "2022-07-13T09:09:54.326057Z"
    },
    "papermill": {
     "duration": 0.034592,
     "end_time": "2022-07-13T09:09:54.329075",
     "exception": false,
     "start_time": "2022-07-13T09:09:54.294483",
     "status": "completed"
    },
    "tags": []
   },
   "outputs": [
    {
     "data": {
      "text/plain": [
       "dtype('float64')"
      ]
     },
     "execution_count": 6,
     "metadata": {},
     "output_type": "execute_result"
    }
   ],
   "source": [
    "data.shape\n",
    "data.dtype"
   ]
  },
  {
   "cell_type": "markdown",
   "id": "5cfcd8c1",
   "metadata": {
    "papermill": {
     "duration": 0.025413,
     "end_time": "2022-07-13T09:09:54.380075",
     "exception": false,
     "start_time": "2022-07-13T09:09:54.354662",
     "status": "completed"
    },
    "tags": []
   },
   "source": [
    "### Creating ndarrays"
   ]
  },
  {
   "cell_type": "code",
   "execution_count": 7,
   "id": "2bd40c01",
   "metadata": {
    "execution": {
     "iopub.execute_input": "2022-07-13T09:09:54.433960Z",
     "iopub.status.busy": "2022-07-13T09:09:54.433376Z",
     "iopub.status.idle": "2022-07-13T09:09:54.439795Z",
     "shell.execute_reply": "2022-07-13T09:09:54.438948Z"
    },
    "papermill": {
     "duration": 0.036408,
     "end_time": "2022-07-13T09:09:54.441887",
     "exception": false,
     "start_time": "2022-07-13T09:09:54.405479",
     "status": "completed"
    },
    "tags": []
   },
   "outputs": [
    {
     "data": {
      "text/plain": [
       "array([6. , 7.5, 8. , 0. , 1. ])"
      ]
     },
     "execution_count": 7,
     "metadata": {},
     "output_type": "execute_result"
    }
   ],
   "source": [
    "data1 = [6, 7.5, 8, 0, 1]\n",
    "arr1 = np.array(data1)\n",
    "arr1"
   ]
  },
  {
   "cell_type": "code",
   "execution_count": 8,
   "id": "f311d7b6",
   "metadata": {
    "execution": {
     "iopub.execute_input": "2022-07-13T09:09:54.494808Z",
     "iopub.status.busy": "2022-07-13T09:09:54.494343Z",
     "iopub.status.idle": "2022-07-13T09:09:54.502436Z",
     "shell.execute_reply": "2022-07-13T09:09:54.501342Z"
    },
    "papermill": {
     "duration": 0.037803,
     "end_time": "2022-07-13T09:09:54.504998",
     "exception": false,
     "start_time": "2022-07-13T09:09:54.467195",
     "status": "completed"
    },
    "tags": []
   },
   "outputs": [
    {
     "data": {
      "text/plain": [
       "array([[1, 2, 3, 4],\n",
       "       [5, 6, 7, 8]])"
      ]
     },
     "execution_count": 8,
     "metadata": {},
     "output_type": "execute_result"
    }
   ],
   "source": [
    "data2 = [[1, 2, 3, 4], [5, 6, 7, 8]]\n",
    "arr2 = np.array(data2)\n",
    "arr2"
   ]
  },
  {
   "cell_type": "code",
   "execution_count": 9,
   "id": "0797d49a",
   "metadata": {
    "execution": {
     "iopub.execute_input": "2022-07-13T09:09:54.558488Z",
     "iopub.status.busy": "2022-07-13T09:09:54.558073Z",
     "iopub.status.idle": "2022-07-13T09:09:54.564803Z",
     "shell.execute_reply": "2022-07-13T09:09:54.563861Z"
    },
    "papermill": {
     "duration": 0.03626,
     "end_time": "2022-07-13T09:09:54.566988",
     "exception": false,
     "start_time": "2022-07-13T09:09:54.530728",
     "status": "completed"
    },
    "tags": []
   },
   "outputs": [
    {
     "data": {
      "text/plain": [
       "(2, 4)"
      ]
     },
     "execution_count": 9,
     "metadata": {},
     "output_type": "execute_result"
    }
   ],
   "source": [
    "arr2.ndim\n",
    "arr2.shape"
   ]
  },
  {
   "cell_type": "code",
   "execution_count": 10,
   "id": "5eca6b37",
   "metadata": {
    "execution": {
     "iopub.execute_input": "2022-07-13T09:09:54.620562Z",
     "iopub.status.busy": "2022-07-13T09:09:54.620153Z",
     "iopub.status.idle": "2022-07-13T09:09:54.626036Z",
     "shell.execute_reply": "2022-07-13T09:09:54.625236Z"
    },
    "papermill": {
     "duration": 0.035006,
     "end_time": "2022-07-13T09:09:54.628059",
     "exception": false,
     "start_time": "2022-07-13T09:09:54.593053",
     "status": "completed"
    },
    "tags": []
   },
   "outputs": [
    {
     "data": {
      "text/plain": [
       "dtype('int64')"
      ]
     },
     "execution_count": 10,
     "metadata": {},
     "output_type": "execute_result"
    }
   ],
   "source": [
    "arr1.dtype\n",
    "arr2.dtype"
   ]
  },
  {
   "cell_type": "code",
   "execution_count": 11,
   "id": "a6f1bf8c",
   "metadata": {
    "execution": {
     "iopub.execute_input": "2022-07-13T09:09:54.682535Z",
     "iopub.status.busy": "2022-07-13T09:09:54.681842Z",
     "iopub.status.idle": "2022-07-13T09:09:54.689327Z",
     "shell.execute_reply": "2022-07-13T09:09:54.688366Z"
    },
    "papermill": {
     "duration": 0.03734,
     "end_time": "2022-07-13T09:09:54.691505",
     "exception": false,
     "start_time": "2022-07-13T09:09:54.654165",
     "status": "completed"
    },
    "tags": []
   },
   "outputs": [
    {
     "data": {
      "text/plain": [
       "array([[[4.6474e-310, 0.0000e+000],\n",
       "        [0.0000e+000, 0.0000e+000],\n",
       "        [0.0000e+000, 7.6082e-042]],\n",
       "\n",
       "       [[4.0340e+175, 2.9287e-057],\n",
       "        [1.6056e-051, 5.0535e-038],\n",
       "        [4.8550e-033, 4.6720e-062]]])"
      ]
     },
     "execution_count": 11,
     "metadata": {},
     "output_type": "execute_result"
    }
   ],
   "source": [
    "np.zeros(10)\n",
    "np.zeros((3, 6))\n",
    "np.empty((2, 3, 2))"
   ]
  },
  {
   "cell_type": "code",
   "execution_count": 12,
   "id": "892b83a3",
   "metadata": {
    "execution": {
     "iopub.execute_input": "2022-07-13T09:09:54.746367Z",
     "iopub.status.busy": "2022-07-13T09:09:54.745693Z",
     "iopub.status.idle": "2022-07-13T09:09:54.751852Z",
     "shell.execute_reply": "2022-07-13T09:09:54.750947Z"
    },
    "papermill": {
     "duration": 0.035889,
     "end_time": "2022-07-13T09:09:54.754020",
     "exception": false,
     "start_time": "2022-07-13T09:09:54.718131",
     "status": "completed"
    },
    "tags": []
   },
   "outputs": [
    {
     "data": {
      "text/plain": [
       "array([ 0,  1,  2,  3,  4,  5,  6,  7,  8,  9, 10, 11, 12, 13, 14])"
      ]
     },
     "execution_count": 12,
     "metadata": {},
     "output_type": "execute_result"
    }
   ],
   "source": [
    "np.arange(15)"
   ]
  },
  {
   "cell_type": "markdown",
   "id": "f5ec2e87",
   "metadata": {
    "papermill": {
     "duration": 0.026571,
     "end_time": "2022-07-13T09:09:54.807139",
     "exception": false,
     "start_time": "2022-07-13T09:09:54.780568",
     "status": "completed"
    },
    "tags": []
   },
   "source": [
    "### Data Types for ndarrays"
   ]
  },
  {
   "cell_type": "code",
   "execution_count": 13,
   "id": "5cc0104f",
   "metadata": {
    "execution": {
     "iopub.execute_input": "2022-07-13T09:09:54.863175Z",
     "iopub.status.busy": "2022-07-13T09:09:54.862522Z",
     "iopub.status.idle": "2022-07-13T09:09:54.869546Z",
     "shell.execute_reply": "2022-07-13T09:09:54.868701Z"
    },
    "papermill": {
     "duration": 0.037401,
     "end_time": "2022-07-13T09:09:54.871636",
     "exception": false,
     "start_time": "2022-07-13T09:09:54.834235",
     "status": "completed"
    },
    "tags": []
   },
   "outputs": [
    {
     "data": {
      "text/plain": [
       "dtype('int32')"
      ]
     },
     "execution_count": 13,
     "metadata": {},
     "output_type": "execute_result"
    }
   ],
   "source": [
    "arr1 = np.array([1, 2, 3], dtype=np.float64)\n",
    "arr2 = np.array([1, 2, 3], dtype=np.int32)\n",
    "arr1.dtype\n",
    "arr2.dtype"
   ]
  },
  {
   "cell_type": "code",
   "execution_count": 14,
   "id": "3eba3412",
   "metadata": {
    "execution": {
     "iopub.execute_input": "2022-07-13T09:09:54.926959Z",
     "iopub.status.busy": "2022-07-13T09:09:54.926027Z",
     "iopub.status.idle": "2022-07-13T09:09:54.933418Z",
     "shell.execute_reply": "2022-07-13T09:09:54.932580Z"
    },
    "papermill": {
     "duration": 0.037597,
     "end_time": "2022-07-13T09:09:54.935875",
     "exception": false,
     "start_time": "2022-07-13T09:09:54.898278",
     "status": "completed"
    },
    "tags": []
   },
   "outputs": [
    {
     "data": {
      "text/plain": [
       "dtype('float64')"
      ]
     },
     "execution_count": 14,
     "metadata": {},
     "output_type": "execute_result"
    }
   ],
   "source": [
    "arr = np.array([1, 2, 3, 4, 5])\n",
    "arr.dtype\n",
    "float_arr = arr.astype(np.float64)\n",
    "float_arr.dtype"
   ]
  },
  {
   "cell_type": "code",
   "execution_count": 15,
   "id": "6dc88481",
   "metadata": {
    "execution": {
     "iopub.execute_input": "2022-07-13T09:09:54.991795Z",
     "iopub.status.busy": "2022-07-13T09:09:54.991121Z",
     "iopub.status.idle": "2022-07-13T09:09:55.000189Z",
     "shell.execute_reply": "2022-07-13T09:09:54.998972Z"
    },
    "papermill": {
     "duration": 0.039858,
     "end_time": "2022-07-13T09:09:55.002608",
     "exception": false,
     "start_time": "2022-07-13T09:09:54.962750",
     "status": "completed"
    },
    "tags": []
   },
   "outputs": [
    {
     "data": {
      "text/plain": [
       "array([ 3, -1, -2,  0, 12, 10], dtype=int32)"
      ]
     },
     "execution_count": 15,
     "metadata": {},
     "output_type": "execute_result"
    }
   ],
   "source": [
    "arr = np.array([3.7, -1.2, -2.6, 0.5, 12.9, 10.1])\n",
    "arr\n",
    "arr.astype(np.int32)"
   ]
  },
  {
   "cell_type": "code",
   "execution_count": 16,
   "id": "000b23ee",
   "metadata": {
    "execution": {
     "iopub.execute_input": "2022-07-13T09:09:55.059512Z",
     "iopub.status.busy": "2022-07-13T09:09:55.058832Z",
     "iopub.status.idle": "2022-07-13T09:09:55.067234Z",
     "shell.execute_reply": "2022-07-13T09:09:55.066070Z"
    },
    "papermill": {
     "duration": 0.03999,
     "end_time": "2022-07-13T09:09:55.069882",
     "exception": false,
     "start_time": "2022-07-13T09:09:55.029892",
     "status": "completed"
    },
    "tags": []
   },
   "outputs": [
    {
     "data": {
      "text/plain": [
       "array([ 1.25, -9.6 , 42.  ])"
      ]
     },
     "execution_count": 16,
     "metadata": {},
     "output_type": "execute_result"
    }
   ],
   "source": [
    "numeric_strings = np.array(['1.25', '-9.6', '42'], dtype=np.string_)\n",
    "numeric_strings.astype(float)"
   ]
  },
  {
   "cell_type": "code",
   "execution_count": 17,
   "id": "80959826",
   "metadata": {
    "execution": {
     "iopub.execute_input": "2022-07-13T09:09:55.126822Z",
     "iopub.status.busy": "2022-07-13T09:09:55.126395Z",
     "iopub.status.idle": "2022-07-13T09:09:55.134094Z",
     "shell.execute_reply": "2022-07-13T09:09:55.133036Z"
    },
    "papermill": {
     "duration": 0.039094,
     "end_time": "2022-07-13T09:09:55.136320",
     "exception": false,
     "start_time": "2022-07-13T09:09:55.097226",
     "status": "completed"
    },
    "tags": []
   },
   "outputs": [
    {
     "data": {
      "text/plain": [
       "array([0., 1., 2., 3., 4., 5., 6., 7., 8., 9.])"
      ]
     },
     "execution_count": 17,
     "metadata": {},
     "output_type": "execute_result"
    }
   ],
   "source": [
    "int_array = np.arange(10)\n",
    "calibers = np.array([.22, .270, .357, .380, .44, .50], dtype=np.float64)\n",
    "int_array.astype(calibers.dtype)"
   ]
  },
  {
   "cell_type": "code",
   "execution_count": 18,
   "id": "3d79aad4",
   "metadata": {
    "execution": {
     "iopub.execute_input": "2022-07-13T09:09:55.193559Z",
     "iopub.status.busy": "2022-07-13T09:09:55.192629Z",
     "iopub.status.idle": "2022-07-13T09:09:55.200432Z",
     "shell.execute_reply": "2022-07-13T09:09:55.199516Z"
    },
    "papermill": {
     "duration": 0.039144,
     "end_time": "2022-07-13T09:09:55.202859",
     "exception": false,
     "start_time": "2022-07-13T09:09:55.163715",
     "status": "completed"
    },
    "tags": []
   },
   "outputs": [
    {
     "data": {
      "text/plain": [
       "array([         0, 1075314688,          0, 1075707904,          0,\n",
       "       1075838976,          0, 1072693248], dtype=uint32)"
      ]
     },
     "execution_count": 18,
     "metadata": {},
     "output_type": "execute_result"
    }
   ],
   "source": [
    "empty_uint32 = np.empty(8, dtype='u4')\n",
    "empty_uint32"
   ]
  },
  {
   "cell_type": "markdown",
   "id": "c6ae2ada",
   "metadata": {
    "papermill": {
     "duration": 0.02722,
     "end_time": "2022-07-13T09:09:55.257690",
     "exception": false,
     "start_time": "2022-07-13T09:09:55.230470",
     "status": "completed"
    },
    "tags": []
   },
   "source": [
    "### Arithmetic with NumPy Arrays"
   ]
  },
  {
   "cell_type": "code",
   "execution_count": 19,
   "id": "0f5f795e",
   "metadata": {
    "execution": {
     "iopub.execute_input": "2022-07-13T09:09:55.315177Z",
     "iopub.status.busy": "2022-07-13T09:09:55.314482Z",
     "iopub.status.idle": "2022-07-13T09:09:55.340402Z",
     "shell.execute_reply": "2022-07-13T09:09:55.339520Z"
    },
    "papermill": {
     "duration": 0.05721,
     "end_time": "2022-07-13T09:09:55.342567",
     "exception": false,
     "start_time": "2022-07-13T09:09:55.285357",
     "status": "completed"
    },
    "tags": []
   },
   "outputs": [
    {
     "data": {
      "text/plain": [
       "array([[0., 0., 0.],\n",
       "       [0., 0., 0.]])"
      ]
     },
     "execution_count": 19,
     "metadata": {},
     "output_type": "execute_result"
    }
   ],
   "source": [
    "arr = np.array([[1., 2., 3.], [4., 5., 6.]])\n",
    "arr\n",
    "arr * arr\n",
    "arr - arr"
   ]
  },
  {
   "cell_type": "code",
   "execution_count": 20,
   "id": "df02684f",
   "metadata": {
    "execution": {
     "iopub.execute_input": "2022-07-13T09:09:55.401240Z",
     "iopub.status.busy": "2022-07-13T09:09:55.400583Z",
     "iopub.status.idle": "2022-07-13T09:09:55.406988Z",
     "shell.execute_reply": "2022-07-13T09:09:55.405992Z"
    },
    "papermill": {
     "duration": 0.0384,
     "end_time": "2022-07-13T09:09:55.409196",
     "exception": false,
     "start_time": "2022-07-13T09:09:55.370796",
     "status": "completed"
    },
    "tags": []
   },
   "outputs": [
    {
     "data": {
      "text/plain": [
       "array([[1.    , 1.4142, 1.7321],\n",
       "       [2.    , 2.2361, 2.4495]])"
      ]
     },
     "execution_count": 20,
     "metadata": {},
     "output_type": "execute_result"
    }
   ],
   "source": [
    "1 / arr\n",
    "arr ** 0.5"
   ]
  },
  {
   "cell_type": "code",
   "execution_count": 21,
   "id": "efc6cc79",
   "metadata": {
    "execution": {
     "iopub.execute_input": "2022-07-13T09:09:55.468052Z",
     "iopub.status.busy": "2022-07-13T09:09:55.467675Z",
     "iopub.status.idle": "2022-07-13T09:09:55.474776Z",
     "shell.execute_reply": "2022-07-13T09:09:55.473769Z"
    },
    "papermill": {
     "duration": 0.038912,
     "end_time": "2022-07-13T09:09:55.476951",
     "exception": false,
     "start_time": "2022-07-13T09:09:55.438039",
     "status": "completed"
    },
    "tags": []
   },
   "outputs": [
    {
     "data": {
      "text/plain": [
       "array([[False,  True, False],\n",
       "       [ True, False,  True]])"
      ]
     },
     "execution_count": 21,
     "metadata": {},
     "output_type": "execute_result"
    }
   ],
   "source": [
    "arr2 = np.array([[0., 4., 1.], [7., 2., 12.]])\n",
    "arr2\n",
    "arr2 > arr"
   ]
  },
  {
   "cell_type": "markdown",
   "id": "953a67c3",
   "metadata": {
    "papermill": {
     "duration": 0.028325,
     "end_time": "2022-07-13T09:09:55.533545",
     "exception": false,
     "start_time": "2022-07-13T09:09:55.505220",
     "status": "completed"
    },
    "tags": []
   },
   "source": [
    "### Basic Indexing and Slicing"
   ]
  },
  {
   "cell_type": "code",
   "execution_count": 22,
   "id": "44cc050f",
   "metadata": {
    "execution": {
     "iopub.execute_input": "2022-07-13T09:09:55.592138Z",
     "iopub.status.busy": "2022-07-13T09:09:55.591764Z",
     "iopub.status.idle": "2022-07-13T09:09:55.599065Z",
     "shell.execute_reply": "2022-07-13T09:09:55.598238Z"
    },
    "papermill": {
     "duration": 0.039225,
     "end_time": "2022-07-13T09:09:55.601238",
     "exception": false,
     "start_time": "2022-07-13T09:09:55.562013",
     "status": "completed"
    },
    "tags": []
   },
   "outputs": [
    {
     "data": {
      "text/plain": [
       "array([ 0,  1,  2,  3,  4, 12, 12, 12,  8,  9])"
      ]
     },
     "execution_count": 22,
     "metadata": {},
     "output_type": "execute_result"
    }
   ],
   "source": [
    "arr = np.arange(10)\n",
    "arr\n",
    "arr[5]\n",
    "arr[5:8]\n",
    "arr[5:8] = 12\n",
    "arr"
   ]
  },
  {
   "cell_type": "code",
   "execution_count": 23,
   "id": "306fc85b",
   "metadata": {
    "execution": {
     "iopub.execute_input": "2022-07-13T09:09:55.660522Z",
     "iopub.status.busy": "2022-07-13T09:09:55.660121Z",
     "iopub.status.idle": "2022-07-13T09:09:55.666652Z",
     "shell.execute_reply": "2022-07-13T09:09:55.665782Z"
    },
    "papermill": {
     "duration": 0.03868,
     "end_time": "2022-07-13T09:09:55.668808",
     "exception": false,
     "start_time": "2022-07-13T09:09:55.630128",
     "status": "completed"
    },
    "tags": []
   },
   "outputs": [
    {
     "data": {
      "text/plain": [
       "array([12, 12, 12])"
      ]
     },
     "execution_count": 23,
     "metadata": {},
     "output_type": "execute_result"
    }
   ],
   "source": [
    "arr_slice = arr[5:8]\n",
    "arr_slice"
   ]
  },
  {
   "cell_type": "code",
   "execution_count": 24,
   "id": "a7d925f6",
   "metadata": {
    "execution": {
     "iopub.execute_input": "2022-07-13T09:09:55.728728Z",
     "iopub.status.busy": "2022-07-13T09:09:55.728018Z",
     "iopub.status.idle": "2022-07-13T09:09:55.734270Z",
     "shell.execute_reply": "2022-07-13T09:09:55.733367Z"
    },
    "papermill": {
     "duration": 0.038837,
     "end_time": "2022-07-13T09:09:55.736400",
     "exception": false,
     "start_time": "2022-07-13T09:09:55.697563",
     "status": "completed"
    },
    "tags": []
   },
   "outputs": [
    {
     "data": {
      "text/plain": [
       "array([    0,     1,     2,     3,     4,    12, 12345,    12,     8,\n",
       "           9])"
      ]
     },
     "execution_count": 24,
     "metadata": {},
     "output_type": "execute_result"
    }
   ],
   "source": [
    "arr_slice[1] = 12345\n",
    "arr"
   ]
  },
  {
   "cell_type": "code",
   "execution_count": 25,
   "id": "5b0b143c",
   "metadata": {
    "execution": {
     "iopub.execute_input": "2022-07-13T09:09:55.796567Z",
     "iopub.status.busy": "2022-07-13T09:09:55.796162Z",
     "iopub.status.idle": "2022-07-13T09:09:55.802264Z",
     "shell.execute_reply": "2022-07-13T09:09:55.801365Z"
    },
    "papermill": {
     "duration": 0.03868,
     "end_time": "2022-07-13T09:09:55.804320",
     "exception": false,
     "start_time": "2022-07-13T09:09:55.765640",
     "status": "completed"
    },
    "tags": []
   },
   "outputs": [
    {
     "data": {
      "text/plain": [
       "array([ 0,  1,  2,  3,  4, 64, 64, 64,  8,  9])"
      ]
     },
     "execution_count": 25,
     "metadata": {},
     "output_type": "execute_result"
    }
   ],
   "source": [
    "arr_slice[:] = 64\n",
    "arr"
   ]
  },
  {
   "cell_type": "code",
   "execution_count": 26,
   "id": "0c695faa",
   "metadata": {
    "execution": {
     "iopub.execute_input": "2022-07-13T09:09:55.865215Z",
     "iopub.status.busy": "2022-07-13T09:09:55.864478Z",
     "iopub.status.idle": "2022-07-13T09:09:55.872077Z",
     "shell.execute_reply": "2022-07-13T09:09:55.870955Z"
    },
    "papermill": {
     "duration": 0.040938,
     "end_time": "2022-07-13T09:09:55.874487",
     "exception": false,
     "start_time": "2022-07-13T09:09:55.833549",
     "status": "completed"
    },
    "tags": []
   },
   "outputs": [
    {
     "data": {
      "text/plain": [
       "array([7, 8, 9])"
      ]
     },
     "execution_count": 26,
     "metadata": {},
     "output_type": "execute_result"
    }
   ],
   "source": [
    "arr2d = np.array([[1, 2, 3], [4, 5, 6], [7, 8, 9]])\n",
    "arr2d[2]"
   ]
  },
  {
   "cell_type": "code",
   "execution_count": 27,
   "id": "7f689014",
   "metadata": {
    "execution": {
     "iopub.execute_input": "2022-07-13T09:09:55.934788Z",
     "iopub.status.busy": "2022-07-13T09:09:55.934387Z",
     "iopub.status.idle": "2022-07-13T09:09:55.940506Z",
     "shell.execute_reply": "2022-07-13T09:09:55.939685Z"
    },
    "papermill": {
     "duration": 0.038977,
     "end_time": "2022-07-13T09:09:55.942629",
     "exception": false,
     "start_time": "2022-07-13T09:09:55.903652",
     "status": "completed"
    },
    "tags": []
   },
   "outputs": [
    {
     "data": {
      "text/plain": [
       "3"
      ]
     },
     "execution_count": 27,
     "metadata": {},
     "output_type": "execute_result"
    }
   ],
   "source": [
    "arr2d[0][2]\n",
    "arr2d[0, 2]"
   ]
  },
  {
   "cell_type": "code",
   "execution_count": 28,
   "id": "b4e6bebb",
   "metadata": {
    "execution": {
     "iopub.execute_input": "2022-07-13T09:09:56.004543Z",
     "iopub.status.busy": "2022-07-13T09:09:56.003432Z",
     "iopub.status.idle": "2022-07-13T09:09:56.012378Z",
     "shell.execute_reply": "2022-07-13T09:09:56.011105Z"
    },
    "papermill": {
     "duration": 0.042267,
     "end_time": "2022-07-13T09:09:56.014655",
     "exception": false,
     "start_time": "2022-07-13T09:09:55.972388",
     "status": "completed"
    },
    "tags": []
   },
   "outputs": [
    {
     "data": {
      "text/plain": [
       "array([[[ 1,  2,  3],\n",
       "        [ 4,  5,  6]],\n",
       "\n",
       "       [[ 7,  8,  9],\n",
       "        [10, 11, 12]]])"
      ]
     },
     "execution_count": 28,
     "metadata": {},
     "output_type": "execute_result"
    }
   ],
   "source": [
    "arr3d = np.array([[[1, 2, 3], [4, 5, 6]], [[7, 8, 9], [10, 11, 12]]])\n",
    "arr3d"
   ]
  },
  {
   "cell_type": "code",
   "execution_count": 29,
   "id": "d26b03ca",
   "metadata": {
    "execution": {
     "iopub.execute_input": "2022-07-13T09:09:56.076635Z",
     "iopub.status.busy": "2022-07-13T09:09:56.076180Z",
     "iopub.status.idle": "2022-07-13T09:09:56.082396Z",
     "shell.execute_reply": "2022-07-13T09:09:56.081604Z"
    },
    "papermill": {
     "duration": 0.039875,
     "end_time": "2022-07-13T09:09:56.084523",
     "exception": false,
     "start_time": "2022-07-13T09:09:56.044648",
     "status": "completed"
    },
    "tags": []
   },
   "outputs": [
    {
     "data": {
      "text/plain": [
       "array([[1, 2, 3],\n",
       "       [4, 5, 6]])"
      ]
     },
     "execution_count": 29,
     "metadata": {},
     "output_type": "execute_result"
    }
   ],
   "source": [
    "arr3d[0]"
   ]
  },
  {
   "cell_type": "code",
   "execution_count": 30,
   "id": "12d6fed1",
   "metadata": {
    "execution": {
     "iopub.execute_input": "2022-07-13T09:09:56.146488Z",
     "iopub.status.busy": "2022-07-13T09:09:56.145743Z",
     "iopub.status.idle": "2022-07-13T09:09:56.153820Z",
     "shell.execute_reply": "2022-07-13T09:09:56.152512Z"
    },
    "papermill": {
     "duration": 0.041673,
     "end_time": "2022-07-13T09:09:56.156075",
     "exception": false,
     "start_time": "2022-07-13T09:09:56.114402",
     "status": "completed"
    },
    "tags": []
   },
   "outputs": [
    {
     "data": {
      "text/plain": [
       "array([[[ 1,  2,  3],\n",
       "        [ 4,  5,  6]],\n",
       "\n",
       "       [[ 7,  8,  9],\n",
       "        [10, 11, 12]]])"
      ]
     },
     "execution_count": 30,
     "metadata": {},
     "output_type": "execute_result"
    }
   ],
   "source": [
    "old_values = arr3d[0].copy()\n",
    "arr3d[0] = 42\n",
    "arr3d\n",
    "arr3d[0] = old_values\n",
    "arr3d"
   ]
  },
  {
   "cell_type": "code",
   "execution_count": 31,
   "id": "72ee2497",
   "metadata": {
    "execution": {
     "iopub.execute_input": "2022-07-13T09:09:56.217368Z",
     "iopub.status.busy": "2022-07-13T09:09:56.216973Z",
     "iopub.status.idle": "2022-07-13T09:09:56.225042Z",
     "shell.execute_reply": "2022-07-13T09:09:56.223643Z"
    },
    "papermill": {
     "duration": 0.0418,
     "end_time": "2022-07-13T09:09:56.227728",
     "exception": false,
     "start_time": "2022-07-13T09:09:56.185928",
     "status": "completed"
    },
    "tags": []
   },
   "outputs": [
    {
     "data": {
      "text/plain": [
       "array([7, 8, 9])"
      ]
     },
     "execution_count": 31,
     "metadata": {},
     "output_type": "execute_result"
    }
   ],
   "source": [
    "arr3d[1, 0]"
   ]
  },
  {
   "cell_type": "code",
   "execution_count": 32,
   "id": "e3331b5d",
   "metadata": {
    "execution": {
     "iopub.execute_input": "2022-07-13T09:09:56.290964Z",
     "iopub.status.busy": "2022-07-13T09:09:56.290161Z",
     "iopub.status.idle": "2022-07-13T09:09:56.298295Z",
     "shell.execute_reply": "2022-07-13T09:09:56.297097Z"
    },
    "papermill": {
     "duration": 0.042437,
     "end_time": "2022-07-13T09:09:56.300577",
     "exception": false,
     "start_time": "2022-07-13T09:09:56.258140",
     "status": "completed"
    },
    "tags": []
   },
   "outputs": [
    {
     "data": {
      "text/plain": [
       "array([7, 8, 9])"
      ]
     },
     "execution_count": 32,
     "metadata": {},
     "output_type": "execute_result"
    }
   ],
   "source": [
    "x = arr3d[1]\n",
    "x\n",
    "x[0]"
   ]
  },
  {
   "cell_type": "markdown",
   "id": "73f7dce7",
   "metadata": {
    "papermill": {
     "duration": 0.029879,
     "end_time": "2022-07-13T09:09:56.360770",
     "exception": false,
     "start_time": "2022-07-13T09:09:56.330891",
     "status": "completed"
    },
    "tags": []
   },
   "source": [
    "#### Indexing with slices"
   ]
  },
  {
   "cell_type": "code",
   "execution_count": 33,
   "id": "fc0d6c9b",
   "metadata": {
    "execution": {
     "iopub.execute_input": "2022-07-13T09:09:56.424851Z",
     "iopub.status.busy": "2022-07-13T09:09:56.424000Z",
     "iopub.status.idle": "2022-07-13T09:09:56.432287Z",
     "shell.execute_reply": "2022-07-13T09:09:56.431070Z"
    },
    "papermill": {
     "duration": 0.043586,
     "end_time": "2022-07-13T09:09:56.434907",
     "exception": false,
     "start_time": "2022-07-13T09:09:56.391321",
     "status": "completed"
    },
    "tags": []
   },
   "outputs": [
    {
     "data": {
      "text/plain": [
       "array([ 1,  2,  3,  4, 64])"
      ]
     },
     "execution_count": 33,
     "metadata": {},
     "output_type": "execute_result"
    }
   ],
   "source": [
    "arr\n",
    "arr[1:6]"
   ]
  },
  {
   "cell_type": "code",
   "execution_count": 34,
   "id": "243b3157",
   "metadata": {
    "execution": {
     "iopub.execute_input": "2022-07-13T09:09:56.498773Z",
     "iopub.status.busy": "2022-07-13T09:09:56.498339Z",
     "iopub.status.idle": "2022-07-13T09:09:56.504521Z",
     "shell.execute_reply": "2022-07-13T09:09:56.503659Z"
    },
    "papermill": {
     "duration": 0.040545,
     "end_time": "2022-07-13T09:09:56.506630",
     "exception": false,
     "start_time": "2022-07-13T09:09:56.466085",
     "status": "completed"
    },
    "tags": []
   },
   "outputs": [
    {
     "data": {
      "text/plain": [
       "array([[1, 2, 3],\n",
       "       [4, 5, 6]])"
      ]
     },
     "execution_count": 34,
     "metadata": {},
     "output_type": "execute_result"
    }
   ],
   "source": [
    "arr2d\n",
    "arr2d[:2]"
   ]
  },
  {
   "cell_type": "code",
   "execution_count": 35,
   "id": "ee859ad0",
   "metadata": {
    "execution": {
     "iopub.execute_input": "2022-07-13T09:09:56.571949Z",
     "iopub.status.busy": "2022-07-13T09:09:56.571570Z",
     "iopub.status.idle": "2022-07-13T09:09:56.578835Z",
     "shell.execute_reply": "2022-07-13T09:09:56.577724Z"
    },
    "papermill": {
     "duration": 0.043193,
     "end_time": "2022-07-13T09:09:56.581121",
     "exception": false,
     "start_time": "2022-07-13T09:09:56.537928",
     "status": "completed"
    },
    "tags": []
   },
   "outputs": [
    {
     "data": {
      "text/plain": [
       "array([[2, 3],\n",
       "       [5, 6]])"
      ]
     },
     "execution_count": 35,
     "metadata": {},
     "output_type": "execute_result"
    }
   ],
   "source": [
    "arr2d[:2, 1:]"
   ]
  },
  {
   "cell_type": "code",
   "execution_count": 36,
   "id": "e7fc2739",
   "metadata": {
    "execution": {
     "iopub.execute_input": "2022-07-13T09:09:56.646527Z",
     "iopub.status.busy": "2022-07-13T09:09:56.646110Z",
     "iopub.status.idle": "2022-07-13T09:09:56.653886Z",
     "shell.execute_reply": "2022-07-13T09:09:56.652494Z"
    },
    "papermill": {
     "duration": 0.043445,
     "end_time": "2022-07-13T09:09:56.656271",
     "exception": false,
     "start_time": "2022-07-13T09:09:56.612826",
     "status": "completed"
    },
    "tags": []
   },
   "outputs": [
    {
     "data": {
      "text/plain": [
       "array([4, 5])"
      ]
     },
     "execution_count": 36,
     "metadata": {},
     "output_type": "execute_result"
    }
   ],
   "source": [
    "arr2d[1, :2]"
   ]
  },
  {
   "cell_type": "code",
   "execution_count": 37,
   "id": "0d6591bf",
   "metadata": {
    "execution": {
     "iopub.execute_input": "2022-07-13T09:09:56.721022Z",
     "iopub.status.busy": "2022-07-13T09:09:56.720601Z",
     "iopub.status.idle": "2022-07-13T09:09:56.728320Z",
     "shell.execute_reply": "2022-07-13T09:09:56.726837Z"
    },
    "papermill": {
     "duration": 0.043141,
     "end_time": "2022-07-13T09:09:56.730986",
     "exception": false,
     "start_time": "2022-07-13T09:09:56.687845",
     "status": "completed"
    },
    "tags": []
   },
   "outputs": [
    {
     "data": {
      "text/plain": [
       "array([3, 6])"
      ]
     },
     "execution_count": 37,
     "metadata": {},
     "output_type": "execute_result"
    }
   ],
   "source": [
    "arr2d[:2, 2]"
   ]
  },
  {
   "cell_type": "code",
   "execution_count": 38,
   "id": "e206763c",
   "metadata": {
    "execution": {
     "iopub.execute_input": "2022-07-13T09:09:56.797188Z",
     "iopub.status.busy": "2022-07-13T09:09:56.796725Z",
     "iopub.status.idle": "2022-07-13T09:09:56.803586Z",
     "shell.execute_reply": "2022-07-13T09:09:56.802727Z"
    },
    "papermill": {
     "duration": 0.042444,
     "end_time": "2022-07-13T09:09:56.805715",
     "exception": false,
     "start_time": "2022-07-13T09:09:56.763271",
     "status": "completed"
    },
    "tags": []
   },
   "outputs": [
    {
     "data": {
      "text/plain": [
       "array([[1],\n",
       "       [4],\n",
       "       [7]])"
      ]
     },
     "execution_count": 38,
     "metadata": {},
     "output_type": "execute_result"
    }
   ],
   "source": [
    "arr2d[:, :1]"
   ]
  },
  {
   "cell_type": "code",
   "execution_count": 39,
   "id": "373e6d69",
   "metadata": {
    "execution": {
     "iopub.execute_input": "2022-07-13T09:09:56.870330Z",
     "iopub.status.busy": "2022-07-13T09:09:56.869924Z",
     "iopub.status.idle": "2022-07-13T09:09:56.878789Z",
     "shell.execute_reply": "2022-07-13T09:09:56.877679Z"
    },
    "papermill": {
     "duration": 0.043863,
     "end_time": "2022-07-13T09:09:56.881164",
     "exception": false,
     "start_time": "2022-07-13T09:09:56.837301",
     "status": "completed"
    },
    "tags": []
   },
   "outputs": [
    {
     "data": {
      "text/plain": [
       "array([[1, 0, 0],\n",
       "       [4, 0, 0],\n",
       "       [7, 8, 9]])"
      ]
     },
     "execution_count": 39,
     "metadata": {},
     "output_type": "execute_result"
    }
   ],
   "source": [
    "arr2d[:2, 1:] = 0\n",
    "arr2d"
   ]
  },
  {
   "cell_type": "markdown",
   "id": "57b948b7",
   "metadata": {
    "papermill": {
     "duration": 0.031685,
     "end_time": "2022-07-13T09:09:56.944801",
     "exception": false,
     "start_time": "2022-07-13T09:09:56.913116",
     "status": "completed"
    },
    "tags": []
   },
   "source": [
    "### Boolean Indexing"
   ]
  },
  {
   "cell_type": "code",
   "execution_count": 40,
   "id": "18370b25",
   "metadata": {
    "execution": {
     "iopub.execute_input": "2022-07-13T09:09:57.010401Z",
     "iopub.status.busy": "2022-07-13T09:09:57.010021Z",
     "iopub.status.idle": "2022-07-13T09:09:57.019307Z",
     "shell.execute_reply": "2022-07-13T09:09:57.017927Z"
    },
    "papermill": {
     "duration": 0.045241,
     "end_time": "2022-07-13T09:09:57.021861",
     "exception": false,
     "start_time": "2022-07-13T09:09:56.976620",
     "status": "completed"
    },
    "tags": []
   },
   "outputs": [
    {
     "data": {
      "text/plain": [
       "array([[ 0.0929,  0.2817,  0.769 ,  1.2464],\n",
       "       [ 1.0072, -1.2962,  0.275 ,  0.2289],\n",
       "       [ 1.3529,  0.8864, -2.0016, -0.3718],\n",
       "       [ 1.669 , -0.4386, -0.5397,  0.477 ],\n",
       "       [ 3.2489, -1.0212, -0.5771,  0.1241],\n",
       "       [ 0.3026,  0.5238,  0.0009,  1.3438],\n",
       "       [-0.7135, -0.8312, -2.3702, -1.8608]])"
      ]
     },
     "execution_count": 40,
     "metadata": {},
     "output_type": "execute_result"
    }
   ],
   "source": [
    "names = np.array(['Bob', 'Joe', 'Will', 'Bob', 'Will', 'Joe', 'Joe'])\n",
    "data = np.random.randn(7, 4)\n",
    "names\n",
    "data"
   ]
  },
  {
   "cell_type": "code",
   "execution_count": 41,
   "id": "948ee76f",
   "metadata": {
    "execution": {
     "iopub.execute_input": "2022-07-13T09:09:57.088842Z",
     "iopub.status.busy": "2022-07-13T09:09:57.088409Z",
     "iopub.status.idle": "2022-07-13T09:09:57.096494Z",
     "shell.execute_reply": "2022-07-13T09:09:57.095139Z"
    },
    "papermill": {
     "duration": 0.044708,
     "end_time": "2022-07-13T09:09:57.098934",
     "exception": false,
     "start_time": "2022-07-13T09:09:57.054226",
     "status": "completed"
    },
    "tags": []
   },
   "outputs": [
    {
     "data": {
      "text/plain": [
       "array([ True, False, False,  True, False, False, False])"
      ]
     },
     "execution_count": 41,
     "metadata": {},
     "output_type": "execute_result"
    }
   ],
   "source": [
    "names == 'Bob'"
   ]
  },
  {
   "cell_type": "code",
   "execution_count": 42,
   "id": "51876680",
   "metadata": {
    "execution": {
     "iopub.execute_input": "2022-07-13T09:09:57.166369Z",
     "iopub.status.busy": "2022-07-13T09:09:57.165945Z",
     "iopub.status.idle": "2022-07-13T09:09:57.174474Z",
     "shell.execute_reply": "2022-07-13T09:09:57.173119Z"
    },
    "papermill": {
     "duration": 0.045418,
     "end_time": "2022-07-13T09:09:57.177075",
     "exception": false,
     "start_time": "2022-07-13T09:09:57.131657",
     "status": "completed"
    },
    "tags": []
   },
   "outputs": [
    {
     "data": {
      "text/plain": [
       "array([[ 0.0929,  0.2817,  0.769 ,  1.2464],\n",
       "       [ 1.669 , -0.4386, -0.5397,  0.477 ]])"
      ]
     },
     "execution_count": 42,
     "metadata": {},
     "output_type": "execute_result"
    }
   ],
   "source": [
    "data[names == 'Bob']"
   ]
  },
  {
   "cell_type": "code",
   "execution_count": 43,
   "id": "1b209b24",
   "metadata": {
    "execution": {
     "iopub.execute_input": "2022-07-13T09:09:57.244180Z",
     "iopub.status.busy": "2022-07-13T09:09:57.243810Z",
     "iopub.status.idle": "2022-07-13T09:09:57.250332Z",
     "shell.execute_reply": "2022-07-13T09:09:57.249519Z"
    },
    "papermill": {
     "duration": 0.042704,
     "end_time": "2022-07-13T09:09:57.252345",
     "exception": false,
     "start_time": "2022-07-13T09:09:57.209641",
     "status": "completed"
    },
    "tags": []
   },
   "outputs": [
    {
     "data": {
      "text/plain": [
       "array([1.2464, 0.477 ])"
      ]
     },
     "execution_count": 43,
     "metadata": {},
     "output_type": "execute_result"
    }
   ],
   "source": [
    "data[names == 'Bob', 2:]\n",
    "data[names == 'Bob', 3]"
   ]
  },
  {
   "cell_type": "code",
   "execution_count": 44,
   "id": "e3874cc8",
   "metadata": {
    "execution": {
     "iopub.execute_input": "2022-07-13T09:09:57.319890Z",
     "iopub.status.busy": "2022-07-13T09:09:57.318757Z",
     "iopub.status.idle": "2022-07-13T09:09:57.325844Z",
     "shell.execute_reply": "2022-07-13T09:09:57.325012Z"
    },
    "papermill": {
     "duration": 0.04298,
     "end_time": "2022-07-13T09:09:57.327942",
     "exception": false,
     "start_time": "2022-07-13T09:09:57.284962",
     "status": "completed"
    },
    "tags": []
   },
   "outputs": [
    {
     "data": {
      "text/plain": [
       "array([[ 1.0072, -1.2962,  0.275 ,  0.2289],\n",
       "       [ 1.3529,  0.8864, -2.0016, -0.3718],\n",
       "       [ 3.2489, -1.0212, -0.5771,  0.1241],\n",
       "       [ 0.3026,  0.5238,  0.0009,  1.3438],\n",
       "       [-0.7135, -0.8312, -2.3702, -1.8608]])"
      ]
     },
     "execution_count": 44,
     "metadata": {},
     "output_type": "execute_result"
    }
   ],
   "source": [
    "names != 'Bob'\n",
    "data[~(names == 'Bob')]"
   ]
  },
  {
   "cell_type": "code",
   "execution_count": 45,
   "id": "0ea28c8d",
   "metadata": {
    "execution": {
     "iopub.execute_input": "2022-07-13T09:09:57.396706Z",
     "iopub.status.busy": "2022-07-13T09:09:57.395679Z",
     "iopub.status.idle": "2022-07-13T09:09:57.403726Z",
     "shell.execute_reply": "2022-07-13T09:09:57.402619Z"
    },
    "papermill": {
     "duration": 0.044874,
     "end_time": "2022-07-13T09:09:57.406051",
     "exception": false,
     "start_time": "2022-07-13T09:09:57.361177",
     "status": "completed"
    },
    "tags": []
   },
   "outputs": [
    {
     "data": {
      "text/plain": [
       "array([[ 1.0072, -1.2962,  0.275 ,  0.2289],\n",
       "       [ 1.3529,  0.8864, -2.0016, -0.3718],\n",
       "       [ 3.2489, -1.0212, -0.5771,  0.1241],\n",
       "       [ 0.3026,  0.5238,  0.0009,  1.3438],\n",
       "       [-0.7135, -0.8312, -2.3702, -1.8608]])"
      ]
     },
     "execution_count": 45,
     "metadata": {},
     "output_type": "execute_result"
    }
   ],
   "source": [
    "cond = names == 'Bob'\n",
    "data[~cond]"
   ]
  },
  {
   "cell_type": "code",
   "execution_count": 46,
   "id": "de100531",
   "metadata": {
    "execution": {
     "iopub.execute_input": "2022-07-13T09:09:57.474828Z",
     "iopub.status.busy": "2022-07-13T09:09:57.474406Z",
     "iopub.status.idle": "2022-07-13T09:09:57.483139Z",
     "shell.execute_reply": "2022-07-13T09:09:57.481935Z"
    },
    "papermill": {
     "duration": 0.045499,
     "end_time": "2022-07-13T09:09:57.485411",
     "exception": false,
     "start_time": "2022-07-13T09:09:57.439912",
     "status": "completed"
    },
    "tags": []
   },
   "outputs": [
    {
     "data": {
      "text/plain": [
       "array([[ 0.0929,  0.2817,  0.769 ,  1.2464],\n",
       "       [ 1.3529,  0.8864, -2.0016, -0.3718],\n",
       "       [ 1.669 , -0.4386, -0.5397,  0.477 ],\n",
       "       [ 3.2489, -1.0212, -0.5771,  0.1241]])"
      ]
     },
     "execution_count": 46,
     "metadata": {},
     "output_type": "execute_result"
    }
   ],
   "source": [
    "mask = (names == 'Bob') | (names == 'Will')\n",
    "mask\n",
    "data[mask]"
   ]
  },
  {
   "cell_type": "code",
   "execution_count": 47,
   "id": "0b5d8deb",
   "metadata": {
    "execution": {
     "iopub.execute_input": "2022-07-13T09:09:57.554763Z",
     "iopub.status.busy": "2022-07-13T09:09:57.554333Z",
     "iopub.status.idle": "2022-07-13T09:09:57.562362Z",
     "shell.execute_reply": "2022-07-13T09:09:57.561050Z"
    },
    "papermill": {
     "duration": 0.045963,
     "end_time": "2022-07-13T09:09:57.564851",
     "exception": false,
     "start_time": "2022-07-13T09:09:57.518888",
     "status": "completed"
    },
    "tags": []
   },
   "outputs": [
    {
     "data": {
      "text/plain": [
       "array([[0.0929, 0.2817, 0.769 , 1.2464],\n",
       "       [1.0072, 0.    , 0.275 , 0.2289],\n",
       "       [1.3529, 0.8864, 0.    , 0.    ],\n",
       "       [1.669 , 0.    , 0.    , 0.477 ],\n",
       "       [3.2489, 0.    , 0.    , 0.1241],\n",
       "       [0.3026, 0.5238, 0.0009, 1.3438],\n",
       "       [0.    , 0.    , 0.    , 0.    ]])"
      ]
     },
     "execution_count": 47,
     "metadata": {},
     "output_type": "execute_result"
    }
   ],
   "source": [
    "data[data < 0] = 0\n",
    "data"
   ]
  },
  {
   "cell_type": "code",
   "execution_count": 48,
   "id": "122e1748",
   "metadata": {
    "execution": {
     "iopub.execute_input": "2022-07-13T09:09:57.634514Z",
     "iopub.status.busy": "2022-07-13T09:09:57.633826Z",
     "iopub.status.idle": "2022-07-13T09:09:57.641812Z",
     "shell.execute_reply": "2022-07-13T09:09:57.640708Z"
    },
    "papermill": {
     "duration": 0.04558,
     "end_time": "2022-07-13T09:09:57.644073",
     "exception": false,
     "start_time": "2022-07-13T09:09:57.598493",
     "status": "completed"
    },
    "tags": []
   },
   "outputs": [
    {
     "data": {
      "text/plain": [
       "array([[7.    , 7.    , 7.    , 7.    ],\n",
       "       [1.0072, 0.    , 0.275 , 0.2289],\n",
       "       [7.    , 7.    , 7.    , 7.    ],\n",
       "       [7.    , 7.    , 7.    , 7.    ],\n",
       "       [7.    , 7.    , 7.    , 7.    ],\n",
       "       [0.3026, 0.5238, 0.0009, 1.3438],\n",
       "       [0.    , 0.    , 0.    , 0.    ]])"
      ]
     },
     "execution_count": 48,
     "metadata": {},
     "output_type": "execute_result"
    }
   ],
   "source": [
    "data[names != 'Joe'] = 7\n",
    "data"
   ]
  },
  {
   "cell_type": "markdown",
   "id": "b59538d0",
   "metadata": {
    "papermill": {
     "duration": 0.033547,
     "end_time": "2022-07-13T09:09:57.711499",
     "exception": false,
     "start_time": "2022-07-13T09:09:57.677952",
     "status": "completed"
    },
    "tags": []
   },
   "source": [
    "### Fancy Indexing"
   ]
  },
  {
   "cell_type": "code",
   "execution_count": 49,
   "id": "ee28c3fe",
   "metadata": {
    "execution": {
     "iopub.execute_input": "2022-07-13T09:09:57.780765Z",
     "iopub.status.busy": "2022-07-13T09:09:57.780337Z",
     "iopub.status.idle": "2022-07-13T09:09:57.788842Z",
     "shell.execute_reply": "2022-07-13T09:09:57.787525Z"
    },
    "papermill": {
     "duration": 0.046161,
     "end_time": "2022-07-13T09:09:57.791264",
     "exception": false,
     "start_time": "2022-07-13T09:09:57.745103",
     "status": "completed"
    },
    "tags": []
   },
   "outputs": [
    {
     "data": {
      "text/plain": [
       "array([[0., 0., 0., 0.],\n",
       "       [1., 1., 1., 1.],\n",
       "       [2., 2., 2., 2.],\n",
       "       [3., 3., 3., 3.],\n",
       "       [4., 4., 4., 4.],\n",
       "       [5., 5., 5., 5.],\n",
       "       [6., 6., 6., 6.],\n",
       "       [7., 7., 7., 7.]])"
      ]
     },
     "execution_count": 49,
     "metadata": {},
     "output_type": "execute_result"
    }
   ],
   "source": [
    "arr = np.empty((8, 4))\n",
    "for i in range(8):\n",
    "    arr[i] = i\n",
    "arr"
   ]
  },
  {
   "cell_type": "code",
   "execution_count": 50,
   "id": "c9452956",
   "metadata": {
    "execution": {
     "iopub.execute_input": "2022-07-13T09:09:57.861906Z",
     "iopub.status.busy": "2022-07-13T09:09:57.860867Z",
     "iopub.status.idle": "2022-07-13T09:09:57.869096Z",
     "shell.execute_reply": "2022-07-13T09:09:57.868108Z"
    },
    "papermill": {
     "duration": 0.046102,
     "end_time": "2022-07-13T09:09:57.871363",
     "exception": false,
     "start_time": "2022-07-13T09:09:57.825261",
     "status": "completed"
    },
    "tags": []
   },
   "outputs": [
    {
     "data": {
      "text/plain": [
       "array([[4., 4., 4., 4.],\n",
       "       [3., 3., 3., 3.],\n",
       "       [0., 0., 0., 0.],\n",
       "       [6., 6., 6., 6.]])"
      ]
     },
     "execution_count": 50,
     "metadata": {},
     "output_type": "execute_result"
    }
   ],
   "source": [
    "arr[[4, 3, 0, 6]]"
   ]
  },
  {
   "cell_type": "code",
   "execution_count": 51,
   "id": "133fbbe3",
   "metadata": {
    "execution": {
     "iopub.execute_input": "2022-07-13T09:09:57.942313Z",
     "iopub.status.busy": "2022-07-13T09:09:57.941235Z",
     "iopub.status.idle": "2022-07-13T09:09:57.949775Z",
     "shell.execute_reply": "2022-07-13T09:09:57.948732Z"
    },
    "papermill": {
     "duration": 0.046665,
     "end_time": "2022-07-13T09:09:57.952265",
     "exception": false,
     "start_time": "2022-07-13T09:09:57.905600",
     "status": "completed"
    },
    "tags": []
   },
   "outputs": [
    {
     "data": {
      "text/plain": [
       "array([[5., 5., 5., 5.],\n",
       "       [3., 3., 3., 3.],\n",
       "       [1., 1., 1., 1.]])"
      ]
     },
     "execution_count": 51,
     "metadata": {},
     "output_type": "execute_result"
    }
   ],
   "source": [
    "arr[[-3, -5, -7]]"
   ]
  },
  {
   "cell_type": "code",
   "execution_count": 52,
   "id": "ad8e21f0",
   "metadata": {
    "execution": {
     "iopub.execute_input": "2022-07-13T09:09:58.023198Z",
     "iopub.status.busy": "2022-07-13T09:09:58.022826Z",
     "iopub.status.idle": "2022-07-13T09:09:58.030024Z",
     "shell.execute_reply": "2022-07-13T09:09:58.029098Z"
    },
    "papermill": {
     "duration": 0.045624,
     "end_time": "2022-07-13T09:09:58.032208",
     "exception": false,
     "start_time": "2022-07-13T09:09:57.986584",
     "status": "completed"
    },
    "tags": []
   },
   "outputs": [
    {
     "data": {
      "text/plain": [
       "array([ 4, 23, 29, 10])"
      ]
     },
     "execution_count": 52,
     "metadata": {},
     "output_type": "execute_result"
    }
   ],
   "source": [
    "arr = np.arange(32).reshape((8, 4))\n",
    "arr\n",
    "arr[[1, 5, 7, 2], [0, 3, 1, 2]]"
   ]
  },
  {
   "cell_type": "code",
   "execution_count": 53,
   "id": "f818630c",
   "metadata": {
    "execution": {
     "iopub.execute_input": "2022-07-13T09:09:58.104525Z",
     "iopub.status.busy": "2022-07-13T09:09:58.104120Z",
     "iopub.status.idle": "2022-07-13T09:09:58.111796Z",
     "shell.execute_reply": "2022-07-13T09:09:58.110884Z"
    },
    "papermill": {
     "duration": 0.046735,
     "end_time": "2022-07-13T09:09:58.113964",
     "exception": false,
     "start_time": "2022-07-13T09:09:58.067229",
     "status": "completed"
    },
    "tags": []
   },
   "outputs": [
    {
     "data": {
      "text/plain": [
       "array([[ 4,  7,  5,  6],\n",
       "       [20, 23, 21, 22],\n",
       "       [28, 31, 29, 30],\n",
       "       [ 8, 11,  9, 10]])"
      ]
     },
     "execution_count": 53,
     "metadata": {},
     "output_type": "execute_result"
    }
   ],
   "source": [
    "arr[[1, 5, 7, 2]][:, [0, 3, 1, 2]]"
   ]
  },
  {
   "cell_type": "markdown",
   "id": "fc2ab213",
   "metadata": {
    "papermill": {
     "duration": 0.034231,
     "end_time": "2022-07-13T09:09:58.183176",
     "exception": false,
     "start_time": "2022-07-13T09:09:58.148945",
     "status": "completed"
    },
    "tags": []
   },
   "source": [
    "### Transposing Arrays and Swapping Axes"
   ]
  },
  {
   "cell_type": "code",
   "execution_count": 54,
   "id": "fd876731",
   "metadata": {
    "execution": {
     "iopub.execute_input": "2022-07-13T09:09:58.254944Z",
     "iopub.status.busy": "2022-07-13T09:09:58.254248Z",
     "iopub.status.idle": "2022-07-13T09:09:58.261035Z",
     "shell.execute_reply": "2022-07-13T09:09:58.260008Z"
    },
    "papermill": {
     "duration": 0.045143,
     "end_time": "2022-07-13T09:09:58.263211",
     "exception": false,
     "start_time": "2022-07-13T09:09:58.218068",
     "status": "completed"
    },
    "tags": []
   },
   "outputs": [
    {
     "data": {
      "text/plain": [
       "array([[ 0,  5, 10],\n",
       "       [ 1,  6, 11],\n",
       "       [ 2,  7, 12],\n",
       "       [ 3,  8, 13],\n",
       "       [ 4,  9, 14]])"
      ]
     },
     "execution_count": 54,
     "metadata": {},
     "output_type": "execute_result"
    }
   ],
   "source": [
    "arr = np.arange(15).reshape((3, 5))\n",
    "arr\n",
    "arr.T"
   ]
  },
  {
   "cell_type": "code",
   "execution_count": 55,
   "id": "5c90b23c",
   "metadata": {
    "execution": {
     "iopub.execute_input": "2022-07-13T09:09:58.340587Z",
     "iopub.status.busy": "2022-07-13T09:09:58.339900Z",
     "iopub.status.idle": "2022-07-13T09:09:58.349873Z",
     "shell.execute_reply": "2022-07-13T09:09:58.348512Z"
    },
    "papermill": {
     "duration": 0.054104,
     "end_time": "2022-07-13T09:09:58.352176",
     "exception": false,
     "start_time": "2022-07-13T09:09:58.298072",
     "status": "completed"
    },
    "tags": []
   },
   "outputs": [
    {
     "data": {
      "text/plain": [
       "array([[ 9.2291,  0.9394,  4.948 ],\n",
       "       [ 0.9394,  3.7662, -1.3622],\n",
       "       [ 4.948 , -1.3622,  4.3437]])"
      ]
     },
     "execution_count": 55,
     "metadata": {},
     "output_type": "execute_result"
    }
   ],
   "source": [
    "arr = np.random.randn(6, 3)\n",
    "arr\n",
    "np.dot(arr.T, arr)"
   ]
  },
  {
   "cell_type": "code",
   "execution_count": 56,
   "id": "58cebc13",
   "metadata": {
    "execution": {
     "iopub.execute_input": "2022-07-13T09:09:58.427276Z",
     "iopub.status.busy": "2022-07-13T09:09:58.426583Z",
     "iopub.status.idle": "2022-07-13T09:09:58.433849Z",
     "shell.execute_reply": "2022-07-13T09:09:58.432770Z"
    },
    "papermill": {
     "duration": 0.047222,
     "end_time": "2022-07-13T09:09:58.436118",
     "exception": false,
     "start_time": "2022-07-13T09:09:58.388896",
     "status": "completed"
    },
    "tags": []
   },
   "outputs": [
    {
     "data": {
      "text/plain": [
       "array([[[ 0,  1,  2,  3],\n",
       "        [ 8,  9, 10, 11]],\n",
       "\n",
       "       [[ 4,  5,  6,  7],\n",
       "        [12, 13, 14, 15]]])"
      ]
     },
     "execution_count": 56,
     "metadata": {},
     "output_type": "execute_result"
    }
   ],
   "source": [
    "arr = np.arange(16).reshape((2, 2, 4))\n",
    "arr\n",
    "arr.transpose((1, 0, 2))"
   ]
  },
  {
   "cell_type": "code",
   "execution_count": 57,
   "id": "17e428f1",
   "metadata": {
    "execution": {
     "iopub.execute_input": "2022-07-13T09:09:58.509158Z",
     "iopub.status.busy": "2022-07-13T09:09:58.508505Z",
     "iopub.status.idle": "2022-07-13T09:09:58.514758Z",
     "shell.execute_reply": "2022-07-13T09:09:58.513906Z"
    },
    "papermill": {
     "duration": 0.045184,
     "end_time": "2022-07-13T09:09:58.517060",
     "exception": false,
     "start_time": "2022-07-13T09:09:58.471876",
     "status": "completed"
    },
    "tags": []
   },
   "outputs": [
    {
     "data": {
      "text/plain": [
       "array([[[ 0,  4],\n",
       "        [ 1,  5],\n",
       "        [ 2,  6],\n",
       "        [ 3,  7]],\n",
       "\n",
       "       [[ 8, 12],\n",
       "        [ 9, 13],\n",
       "        [10, 14],\n",
       "        [11, 15]]])"
      ]
     },
     "execution_count": 57,
     "metadata": {},
     "output_type": "execute_result"
    }
   ],
   "source": [
    "arr\n",
    "arr.swapaxes(1, 2)"
   ]
  },
  {
   "cell_type": "markdown",
   "id": "2007dc0e",
   "metadata": {
    "papermill": {
     "duration": 0.035214,
     "end_time": "2022-07-13T09:09:58.587644",
     "exception": false,
     "start_time": "2022-07-13T09:09:58.552430",
     "status": "completed"
    },
    "tags": []
   },
   "source": [
    "## Universal Functions: Fast Element-Wise Array Functions"
   ]
  },
  {
   "cell_type": "code",
   "execution_count": 58,
   "id": "d50b3846",
   "metadata": {
    "execution": {
     "iopub.execute_input": "2022-07-13T09:09:58.660401Z",
     "iopub.status.busy": "2022-07-13T09:09:58.660032Z",
     "iopub.status.idle": "2022-07-13T09:09:58.666805Z",
     "shell.execute_reply": "2022-07-13T09:09:58.665981Z"
    },
    "papermill": {
     "duration": 0.045971,
     "end_time": "2022-07-13T09:09:58.668924",
     "exception": false,
     "start_time": "2022-07-13T09:09:58.622953",
     "status": "completed"
    },
    "tags": []
   },
   "outputs": [
    {
     "data": {
      "text/plain": [
       "array([   1.    ,    2.7183,    7.3891,   20.0855,   54.5982,  148.4132,\n",
       "        403.4288, 1096.6332, 2980.958 , 8103.0839])"
      ]
     },
     "execution_count": 58,
     "metadata": {},
     "output_type": "execute_result"
    }
   ],
   "source": [
    "arr = np.arange(10)\n",
    "arr\n",
    "np.sqrt(arr)\n",
    "np.exp(arr)"
   ]
  },
  {
   "cell_type": "code",
   "execution_count": 59,
   "id": "2c945ef5",
   "metadata": {
    "execution": {
     "iopub.execute_input": "2022-07-13T09:09:58.741691Z",
     "iopub.status.busy": "2022-07-13T09:09:58.741300Z",
     "iopub.status.idle": "2022-07-13T09:09:58.749351Z",
     "shell.execute_reply": "2022-07-13T09:09:58.748309Z"
    },
    "papermill": {
     "duration": 0.047386,
     "end_time": "2022-07-13T09:09:58.751591",
     "exception": false,
     "start_time": "2022-07-13T09:09:58.704205",
     "status": "completed"
    },
    "tags": []
   },
   "outputs": [
    {
     "data": {
      "text/plain": [
       "array([ 0.8626,  1.0048,  1.3272,  0.6702,  0.853 ,  0.0222,  0.7584,\n",
       "       -0.6605])"
      ]
     },
     "execution_count": 59,
     "metadata": {},
     "output_type": "execute_result"
    }
   ],
   "source": [
    "x = np.random.randn(8)\n",
    "y = np.random.randn(8)\n",
    "x\n",
    "y\n",
    "np.maximum(x, y)"
   ]
  },
  {
   "cell_type": "code",
   "execution_count": 60,
   "id": "8a6d2f93",
   "metadata": {
    "execution": {
     "iopub.execute_input": "2022-07-13T09:09:58.824958Z",
     "iopub.status.busy": "2022-07-13T09:09:58.824264Z",
     "iopub.status.idle": "2022-07-13T09:09:58.833203Z",
     "shell.execute_reply": "2022-07-13T09:09:58.832318Z"
    },
    "papermill": {
     "duration": 0.048328,
     "end_time": "2022-07-13T09:09:58.835472",
     "exception": false,
     "start_time": "2022-07-13T09:09:58.787144",
     "status": "completed"
    },
    "tags": []
   },
   "outputs": [
    {
     "data": {
      "text/plain": [
       "array([-3., -6., -6.,  5.,  3.,  3.,  5.])"
      ]
     },
     "execution_count": 60,
     "metadata": {},
     "output_type": "execute_result"
    }
   ],
   "source": [
    "arr = np.random.randn(7) * 5\n",
    "arr\n",
    "remainder, whole_part = np.modf(arr)\n",
    "remainder\n",
    "whole_part"
   ]
  },
  {
   "cell_type": "code",
   "execution_count": 61,
   "id": "0cf6b27a",
   "metadata": {
    "execution": {
     "iopub.execute_input": "2022-07-13T09:09:58.910156Z",
     "iopub.status.busy": "2022-07-13T09:09:58.909345Z",
     "iopub.status.idle": "2022-07-13T09:09:58.918074Z",
     "shell.execute_reply": "2022-07-13T09:09:58.916394Z"
    },
    "papermill": {
     "duration": 0.048711,
     "end_time": "2022-07-13T09:09:58.920836",
     "exception": false,
     "start_time": "2022-07-13T09:09:58.872125",
     "status": "completed"
    },
    "tags": []
   },
   "outputs": [
    {
     "name": "stderr",
     "output_type": "stream",
     "text": [
      "/opt/conda/lib/python3.7/site-packages/ipykernel_launcher.py:2: RuntimeWarning: invalid value encountered in sqrt\n",
      "  \n",
      "/opt/conda/lib/python3.7/site-packages/ipykernel_launcher.py:3: RuntimeWarning: invalid value encountered in sqrt\n",
      "  This is separate from the ipykernel package so we can avoid doing imports until\n"
     ]
    },
    {
     "data": {
      "text/plain": [
       "array([   nan,    nan,    nan, 2.318 , 1.9022, 1.8574, 2.2378])"
      ]
     },
     "execution_count": 61,
     "metadata": {},
     "output_type": "execute_result"
    }
   ],
   "source": [
    "arr\n",
    "np.sqrt(arr)\n",
    "np.sqrt(arr, arr)\n",
    "arr"
   ]
  },
  {
   "cell_type": "markdown",
   "id": "a37cb435",
   "metadata": {
    "papermill": {
     "duration": 0.036936,
     "end_time": "2022-07-13T09:09:58.995189",
     "exception": false,
     "start_time": "2022-07-13T09:09:58.958253",
     "status": "completed"
    },
    "tags": []
   },
   "source": [
    "## Array-Oriented Programming with Arrays"
   ]
  },
  {
   "cell_type": "code",
   "execution_count": 62,
   "id": "3b08e8e4",
   "metadata": {
    "execution": {
     "iopub.execute_input": "2022-07-13T09:09:59.071212Z",
     "iopub.status.busy": "2022-07-13T09:09:59.070804Z",
     "iopub.status.idle": "2022-07-13T09:09:59.083276Z",
     "shell.execute_reply": "2022-07-13T09:09:59.082336Z"
    },
    "papermill": {
     "duration": 0.052734,
     "end_time": "2022-07-13T09:09:59.085535",
     "exception": false,
     "start_time": "2022-07-13T09:09:59.032801",
     "status": "completed"
    },
    "tags": []
   },
   "outputs": [
    {
     "data": {
      "text/plain": [
       "array([[-5.  , -5.  , -5.  , ..., -5.  , -5.  , -5.  ],\n",
       "       [-4.99, -4.99, -4.99, ..., -4.99, -4.99, -4.99],\n",
       "       [-4.98, -4.98, -4.98, ..., -4.98, -4.98, -4.98],\n",
       "       ...,\n",
       "       [ 4.97,  4.97,  4.97, ...,  4.97,  4.97,  4.97],\n",
       "       [ 4.98,  4.98,  4.98, ...,  4.98,  4.98,  4.98],\n",
       "       [ 4.99,  4.99,  4.99, ...,  4.99,  4.99,  4.99]])"
      ]
     },
     "execution_count": 62,
     "metadata": {},
     "output_type": "execute_result"
    }
   ],
   "source": [
    "points = np.arange(-5, 5, 0.01) # 1000 equally spaced points\n",
    "xs, ys = np.meshgrid(points, points)\n",
    "ys"
   ]
  },
  {
   "cell_type": "code",
   "execution_count": 63,
   "id": "24d6c14c",
   "metadata": {
    "execution": {
     "iopub.execute_input": "2022-07-13T09:09:59.160533Z",
     "iopub.status.busy": "2022-07-13T09:09:59.159776Z",
     "iopub.status.idle": "2022-07-13T09:09:59.180697Z",
     "shell.execute_reply": "2022-07-13T09:09:59.179480Z"
    },
    "papermill": {
     "duration": 0.061292,
     "end_time": "2022-07-13T09:09:59.183179",
     "exception": false,
     "start_time": "2022-07-13T09:09:59.121887",
     "status": "completed"
    },
    "tags": []
   },
   "outputs": [
    {
     "data": {
      "text/plain": [
       "array([[7.0711, 7.064 , 7.0569, ..., 7.0499, 7.0569, 7.064 ],\n",
       "       [7.064 , 7.0569, 7.0499, ..., 7.0428, 7.0499, 7.0569],\n",
       "       [7.0569, 7.0499, 7.0428, ..., 7.0357, 7.0428, 7.0499],\n",
       "       ...,\n",
       "       [7.0499, 7.0428, 7.0357, ..., 7.0286, 7.0357, 7.0428],\n",
       "       [7.0569, 7.0499, 7.0428, ..., 7.0357, 7.0428, 7.0499],\n",
       "       [7.064 , 7.0569, 7.0499, ..., 7.0428, 7.0499, 7.0569]])"
      ]
     },
     "execution_count": 63,
     "metadata": {},
     "output_type": "execute_result"
    }
   ],
   "source": [
    "z = np.sqrt(xs ** 2 + ys ** 2)\n",
    "z"
   ]
  },
  {
   "cell_type": "code",
   "execution_count": 64,
   "id": "f2566fd8",
   "metadata": {
    "execution": {
     "iopub.execute_input": "2022-07-13T09:09:59.259104Z",
     "iopub.status.busy": "2022-07-13T09:09:59.258699Z",
     "iopub.status.idle": "2022-07-13T09:09:59.959980Z",
     "shell.execute_reply": "2022-07-13T09:09:59.958511Z"
    },
    "papermill": {
     "duration": 0.742356,
     "end_time": "2022-07-13T09:09:59.962487",
     "exception": false,
     "start_time": "2022-07-13T09:09:59.220131",
     "status": "completed"
    },
    "tags": []
   },
   "outputs": [
    {
     "data": {
      "text/plain": [
       "Text(0.5, 1.0, 'Image plot of $\\\\sqrt{x^2 + y^2}$ for a grid of values')"
      ]
     },
     "execution_count": 64,
     "metadata": {},
     "output_type": "execute_result"
    },
    {
     "data": {
      "image/png": "[encoded data removed]",
      "text/plain": [
       "<Figure size 720x432 with 2 Axes>"
      ]
     },
     "metadata": {
      "needs_background": "light"
     },
     "output_type": "display_data"
    }
   ],
   "source": [
    "import matplotlib.pyplot as plt\n",
    "plt.imshow(z, cmap=plt.cm.gray); plt.colorbar()\n",
    "plt.title(\"Image plot of $\\sqrt{x^2 + y^2}$ for a grid of values\")"
   ]
  },
  {
   "cell_type": "code",
   "execution_count": 65,
   "id": "e7585dc3",
   "metadata": {
    "execution": {
     "iopub.execute_input": "2022-07-13T09:10:00.039699Z",
     "iopub.status.busy": "2022-07-13T09:10:00.039290Z",
     "iopub.status.idle": "2022-07-13T09:10:00.048714Z",
     "shell.execute_reply": "2022-07-13T09:10:00.047525Z"
    },
    "papermill": {
     "duration": 0.050964,
     "end_time": "2022-07-13T09:10:00.051034",
     "exception": false,
     "start_time": "2022-07-13T09:10:00.000070",
     "status": "completed"
    },
    "tags": []
   },
   "outputs": [
    {
     "data": {
      "text/plain": [
       "<Figure size 720x432 with 0 Axes>"
      ]
     },
     "metadata": {},
     "output_type": "display_data"
    }
   ],
   "source": [
    "plt.draw()"
   ]
  },
  {
   "cell_type": "code",
   "execution_count": 66,
   "id": "4d5503fd",
   "metadata": {
    "execution": {
     "iopub.execute_input": "2022-07-13T09:10:00.128546Z",
     "iopub.status.busy": "2022-07-13T09:10:00.127862Z",
     "iopub.status.idle": "2022-07-13T09:10:00.132194Z",
     "shell.execute_reply": "2022-07-13T09:10:00.131371Z"
    },
    "papermill": {
     "duration": 0.045582,
     "end_time": "2022-07-13T09:10:00.134428",
     "exception": false,
     "start_time": "2022-07-13T09:10:00.088846",
     "status": "completed"
    },
    "tags": []
   },
   "outputs": [],
   "source": [
    "plt.close('all')"
   ]
  },
  {
   "cell_type": "markdown",
   "id": "4eceeb95",
   "metadata": {
    "papermill": {
     "duration": 0.03781,
     "end_time": "2022-07-13T09:10:00.210368",
     "exception": false,
     "start_time": "2022-07-13T09:10:00.172558",
     "status": "completed"
    },
    "tags": []
   },
   "source": [
    "### Expressing Conditional Logic as Array Operations"
   ]
  },
  {
   "cell_type": "code",
   "execution_count": 67,
   "id": "c47f8f3b",
   "metadata": {
    "execution": {
     "iopub.execute_input": "2022-07-13T09:10:00.288392Z",
     "iopub.status.busy": "2022-07-13T09:10:00.287579Z",
     "iopub.status.idle": "2022-07-13T09:10:00.294042Z",
     "shell.execute_reply": "2022-07-13T09:10:00.293004Z"
    },
    "papermill": {
     "duration": 0.048119,
     "end_time": "2022-07-13T09:10:00.296276",
     "exception": false,
     "start_time": "2022-07-13T09:10:00.248157",
     "status": "completed"
    },
    "tags": []
   },
   "outputs": [],
   "source": [
    "xarr = np.array([1.1, 1.2, 1.3, 1.4, 1.5])\n",
    "yarr = np.array([2.1, 2.2, 2.3, 2.4, 2.5])\n",
    "cond = np.array([True, False, True, True, False])"
   ]
  },
  {
   "cell_type": "code",
   "execution_count": 68,
   "id": "1afda8e2",
   "metadata": {
    "execution": {
     "iopub.execute_input": "2022-07-13T09:10:00.373780Z",
     "iopub.status.busy": "2022-07-13T09:10:00.373357Z",
     "iopub.status.idle": "2022-07-13T09:10:00.380382Z",
     "shell.execute_reply": "2022-07-13T09:10:00.379529Z"
    },
    "papermill": {
     "duration": 0.048895,
     "end_time": "2022-07-13T09:10:00.382597",
     "exception": false,
     "start_time": "2022-07-13T09:10:00.333702",
     "status": "completed"
    },
    "tags": []
   },
   "outputs": [
    {
     "data": {
      "text/plain": [
       "[1.1, 2.2, 1.3, 1.4, 2.5]"
      ]
     },
     "execution_count": 68,
     "metadata": {},
     "output_type": "execute_result"
    }
   ],
   "source": [
    "result = [(x if c else y)\n",
    "          for x, y, c in zip(xarr, yarr, cond)]\n",
    "result"
   ]
  },
  {
   "cell_type": "code",
   "execution_count": 69,
   "id": "ade525e5",
   "metadata": {
    "execution": {
     "iopub.execute_input": "2022-07-13T09:10:00.461505Z",
     "iopub.status.busy": "2022-07-13T09:10:00.460809Z",
     "iopub.status.idle": "2022-07-13T09:10:00.467348Z",
     "shell.execute_reply": "2022-07-13T09:10:00.466507Z"
    },
    "papermill": {
     "duration": 0.048793,
     "end_time": "2022-07-13T09:10:00.469692",
     "exception": false,
     "start_time": "2022-07-13T09:10:00.420899",
     "status": "completed"
    },
    "tags": []
   },
   "outputs": [
    {
     "data": {
      "text/plain": [
       "array([1.1, 2.2, 1.3, 1.4, 2.5])"
      ]
     },
     "execution_count": 69,
     "metadata": {},
     "output_type": "execute_result"
    }
   ],
   "source": [
    "result = np.where(cond, xarr, yarr)\n",
    "result"
   ]
  },
  {
   "cell_type": "code",
   "execution_count": 70,
   "id": "323f6418",
   "metadata": {
    "execution": {
     "iopub.execute_input": "2022-07-13T09:10:00.548373Z",
     "iopub.status.busy": "2022-07-13T09:10:00.547694Z",
     "iopub.status.idle": "2022-07-13T09:10:00.555406Z",
     "shell.execute_reply": "2022-07-13T09:10:00.554422Z"
    },
    "papermill": {
     "duration": 0.049377,
     "end_time": "2022-07-13T09:10:00.557577",
     "exception": false,
     "start_time": "2022-07-13T09:10:00.508200",
     "status": "completed"
    },
    "tags": []
   },
   "outputs": [
    {
     "data": {
      "text/plain": [
       "array([[-2, -2, -2, -2],\n",
       "       [ 2,  2, -2,  2],\n",
       "       [ 2,  2,  2, -2],\n",
       "       [ 2, -2,  2,  2]])"
      ]
     },
     "execution_count": 70,
     "metadata": {},
     "output_type": "execute_result"
    }
   ],
   "source": [
    "arr = np.random.randn(4, 4)\n",
    "arr\n",
    "arr > 0\n",
    "np.where(arr > 0, 2, -2)"
   ]
  },
  {
   "cell_type": "code",
   "execution_count": 71,
   "id": "9d4627e9",
   "metadata": {
    "execution": {
     "iopub.execute_input": "2022-07-13T09:10:00.635530Z",
     "iopub.status.busy": "2022-07-13T09:10:00.635106Z",
     "iopub.status.idle": "2022-07-13T09:10:00.641936Z",
     "shell.execute_reply": "2022-07-13T09:10:00.641099Z"
    },
    "papermill": {
     "duration": 0.048634,
     "end_time": "2022-07-13T09:10:00.644032",
     "exception": false,
     "start_time": "2022-07-13T09:10:00.595398",
     "status": "completed"
    },
    "tags": []
   },
   "outputs": [
    {
     "data": {
      "text/plain": [
       "array([[-0.5031, -0.6223, -0.9212, -0.7262],\n",
       "       [ 2.    ,  2.    , -1.1577,  2.    ],\n",
       "       [ 2.    ,  2.    ,  2.    , -0.9975],\n",
       "       [ 2.    , -0.1316,  2.    ,  2.    ]])"
      ]
     },
     "execution_count": 71,
     "metadata": {},
     "output_type": "execute_result"
    }
   ],
   "source": [
    "np.where(arr > 0, 2, arr) # set only positive values to 2"
   ]
  },
  {
   "cell_type": "markdown",
   "id": "71bc2686",
   "metadata": {
    "papermill": {
     "duration": 0.038762,
     "end_time": "2022-07-13T09:10:00.720804",
     "exception": false,
     "start_time": "2022-07-13T09:10:00.682042",
     "status": "completed"
    },
    "tags": []
   },
   "source": [
    "### Mathematical and Statistical Methods"
   ]
  },
  {
   "cell_type": "code",
   "execution_count": 72,
   "id": "2dd9fb48",
   "metadata": {
    "execution": {
     "iopub.execute_input": "2022-07-13T09:10:00.800768Z",
     "iopub.status.busy": "2022-07-13T09:10:00.799665Z",
     "iopub.status.idle": "2022-07-13T09:10:00.807767Z",
     "shell.execute_reply": "2022-07-13T09:10:00.806860Z"
    },
    "papermill": {
     "duration": 0.049985,
     "end_time": "2022-07-13T09:10:00.809841",
     "exception": false,
     "start_time": "2022-07-13T09:10:00.759856",
     "status": "completed"
    },
    "tags": []
   },
   "outputs": [
    {
     "data": {
      "text/plain": [
       "3.9214102239996507"
      ]
     },
     "execution_count": 72,
     "metadata": {},
     "output_type": "execute_result"
    }
   ],
   "source": [
    "arr = np.random.randn(5, 4)\n",
    "arr\n",
    "arr.mean()\n",
    "np.mean(arr)\n",
    "arr.sum()"
   ]
  },
  {
   "cell_type": "code",
   "execution_count": 73,
   "id": "b91d8939",
   "metadata": {
    "execution": {
     "iopub.execute_input": "2022-07-13T09:10:00.889360Z",
     "iopub.status.busy": "2022-07-13T09:10:00.888649Z",
     "iopub.status.idle": "2022-07-13T09:10:00.895592Z",
     "shell.execute_reply": "2022-07-13T09:10:00.894677Z"
    },
    "papermill": {
     "duration": 0.049313,
     "end_time": "2022-07-13T09:10:00.897876",
     "exception": false,
     "start_time": "2022-07-13T09:10:00.848563",
     "status": "completed"
    },
    "tags": []
   },
   "outputs": [
    {
     "data": {
      "text/plain": [
       "array([ 3.1693, -2.6345,  2.2381,  1.1486])"
      ]
     },
     "execution_count": 73,
     "metadata": {},
     "output_type": "execute_result"
    }
   ],
   "source": [
    "arr.mean(axis=1)\n",
    "arr.sum(axis=0)"
   ]
  },
  {
   "cell_type": "code",
   "execution_count": 74,
   "id": "e83ce697",
   "metadata": {
    "execution": {
     "iopub.execute_input": "2022-07-13T09:10:00.977788Z",
     "iopub.status.busy": "2022-07-13T09:10:00.977108Z",
     "iopub.status.idle": "2022-07-13T09:10:00.984059Z",
     "shell.execute_reply": "2022-07-13T09:10:00.983160Z"
    },
    "papermill": {
     "duration": 0.049775,
     "end_time": "2022-07-13T09:10:00.986555",
     "exception": false,
     "start_time": "2022-07-13T09:10:00.936780",
     "status": "completed"
    },
    "tags": []
   },
   "outputs": [
    {
     "data": {
      "text/plain": [
       "array([ 0,  1,  3,  6, 10, 15, 21, 28])"
      ]
     },
     "execution_count": 74,
     "metadata": {},
     "output_type": "execute_result"
    }
   ],
   "source": [
    "arr = np.array([0, 1, 2, 3, 4, 5, 6, 7])\n",
    "arr.cumsum()"
   ]
  },
  {
   "cell_type": "code",
   "execution_count": 75,
   "id": "d7d138db",
   "metadata": {
    "execution": {
     "iopub.execute_input": "2022-07-13T09:10:01.067759Z",
     "iopub.status.busy": "2022-07-13T09:10:01.067328Z",
     "iopub.status.idle": "2022-07-13T09:10:01.076371Z",
     "shell.execute_reply": "2022-07-13T09:10:01.075029Z"
    },
    "papermill": {
     "duration": 0.053096,
     "end_time": "2022-07-13T09:10:01.079054",
     "exception": false,
     "start_time": "2022-07-13T09:10:01.025958",
     "status": "completed"
    },
    "tags": []
   },
   "outputs": [
    {
     "data": {
      "text/plain": [
       "array([[  0,   0,   0],\n",
       "       [  3,  12,  60],\n",
       "       [  6,  42, 336]])"
      ]
     },
     "execution_count": 75,
     "metadata": {},
     "output_type": "execute_result"
    }
   ],
   "source": [
    "arr = np.array([[0, 1, 2], [3, 4, 5], [6, 7, 8]])\n",
    "arr\n",
    "arr.cumsum(axis=0)\n",
    "arr.cumprod(axis=1)"
   ]
  },
  {
   "cell_type": "markdown",
   "id": "ccdf6445",
   "metadata": {
    "papermill": {
     "duration": 0.040397,
     "end_time": "2022-07-13T09:10:01.159223",
     "exception": false,
     "start_time": "2022-07-13T09:10:01.118826",
     "status": "completed"
    },
    "tags": []
   },
   "source": [
    "### Methods for Boolean Arrays"
   ]
  },
  {
   "cell_type": "code",
   "execution_count": 76,
   "id": "186f8a7f",
   "metadata": {
    "execution": {
     "iopub.execute_input": "2022-07-13T09:10:01.241775Z",
     "iopub.status.busy": "2022-07-13T09:10:01.240578Z",
     "iopub.status.idle": "2022-07-13T09:10:01.248929Z",
     "shell.execute_reply": "2022-07-13T09:10:01.247990Z"
    },
    "papermill": {
     "duration": 0.051868,
     "end_time": "2022-07-13T09:10:01.251239",
     "exception": false,
     "start_time": "2022-07-13T09:10:01.199371",
     "status": "completed"
    },
    "tags": []
   },
   "outputs": [
    {
     "data": {
      "text/plain": [
       "42"
      ]
     },
     "execution_count": 76,
     "metadata": {},
     "output_type": "execute_result"
    }
   ],
   "source": [
    "arr = np.random.randn(100)\n",
    "(arr > 0).sum() # Number of positive values"
   ]
  },
  {
   "cell_type": "code",
   "execution_count": 77,
   "id": "e0115ed7",
   "metadata": {
    "execution": {
     "iopub.execute_input": "2022-07-13T09:10:01.334075Z",
     "iopub.status.busy": "2022-07-13T09:10:01.332946Z",
     "iopub.status.idle": "2022-07-13T09:10:01.341353Z",
     "shell.execute_reply": "2022-07-13T09:10:01.340425Z"
    },
    "papermill": {
     "duration": 0.052092,
     "end_time": "2022-07-13T09:10:01.343735",
     "exception": false,
     "start_time": "2022-07-13T09:10:01.291643",
     "status": "completed"
    },
    "tags": []
   },
   "outputs": [
    {
     "data": {
      "text/plain": [
       "False"
      ]
     },
     "execution_count": 77,
     "metadata": {},
     "output_type": "execute_result"
    }
   ],
   "source": [
    "bools = np.array([False, False, True, False])\n",
    "bools.any()\n",
    "bools.all()"
   ]
  },
  {
   "cell_type": "markdown",
   "id": "aa05ed16",
   "metadata": {
    "papermill": {
     "duration": 0.040519,
     "end_time": "2022-07-13T09:10:01.424685",
     "exception": false,
     "start_time": "2022-07-13T09:10:01.384166",
     "status": "completed"
    },
    "tags": []
   },
   "source": [
    "### Sorting"
   ]
  },
  {
   "cell_type": "code",
   "execution_count": 78,
   "id": "d7c88e50",
   "metadata": {
    "execution": {
     "iopub.execute_input": "2022-07-13T09:10:01.507557Z",
     "iopub.status.busy": "2022-07-13T09:10:01.506747Z",
     "iopub.status.idle": "2022-07-13T09:10:01.515365Z",
     "shell.execute_reply": "2022-07-13T09:10:01.514288Z"
    },
    "papermill": {
     "duration": 0.052509,
     "end_time": "2022-07-13T09:10:01.517693",
     "exception": false,
     "start_time": "2022-07-13T09:10:01.465184",
     "status": "completed"
    },
    "tags": []
   },
   "outputs": [
    {
     "data": {
      "text/plain": [
       "array([-0.8469, -0.4938, -0.1357,  0.6095,  1.24  ,  1.43  ])"
      ]
     },
     "execution_count": 78,
     "metadata": {},
     "output_type": "execute_result"
    }
   ],
   "source": [
    "arr = np.random.randn(6)\n",
    "arr\n",
    "arr.sort()\n",
    "arr"
   ]
  },
  {
   "cell_type": "code",
   "execution_count": 79,
   "id": "a5dfa556",
   "metadata": {
    "execution": {
     "iopub.execute_input": "2022-07-13T09:10:01.600076Z",
     "iopub.status.busy": "2022-07-13T09:10:01.599385Z",
     "iopub.status.idle": "2022-07-13T09:10:01.607685Z",
     "shell.execute_reply": "2022-07-13T09:10:01.606496Z"
    },
    "papermill": {
     "duration": 0.052353,
     "end_time": "2022-07-13T09:10:01.609923",
     "exception": false,
     "start_time": "2022-07-13T09:10:01.557570",
     "status": "completed"
    },
    "tags": []
   },
   "outputs": [
    {
     "data": {
      "text/plain": [
       "array([[-0.2555,  0.6033,  1.2636],\n",
       "       [-0.9616, -0.4457,  0.4684],\n",
       "       [-1.8245,  0.6254,  1.0229],\n",
       "       [-0.3501,  0.0909,  1.1074],\n",
       "       [-1.7415, -0.8948,  0.218 ]])"
      ]
     },
     "execution_count": 79,
     "metadata": {},
     "output_type": "execute_result"
    }
   ],
   "source": [
    "arr = np.random.randn(5, 3)\n",
    "arr\n",
    "arr.sort(1)\n",
    "arr"
   ]
  },
  {
   "cell_type": "code",
   "execution_count": 80,
   "id": "a826e58f",
   "metadata": {
    "execution": {
     "iopub.execute_input": "2022-07-13T09:10:01.692376Z",
     "iopub.status.busy": "2022-07-13T09:10:01.691744Z",
     "iopub.status.idle": "2022-07-13T09:10:01.699891Z",
     "shell.execute_reply": "2022-07-13T09:10:01.699009Z"
    },
    "papermill": {
     "duration": 0.05225,
     "end_time": "2022-07-13T09:10:01.702042",
     "exception": false,
     "start_time": "2022-07-13T09:10:01.649792",
     "status": "completed"
    },
    "tags": []
   },
   "outputs": [
    {
     "data": {
      "text/plain": [
       "-1.5311513550102103"
      ]
     },
     "execution_count": 80,
     "metadata": {},
     "output_type": "execute_result"
    }
   ],
   "source": [
    "large_arr = np.random.randn(1000)\n",
    "large_arr.sort()\n",
    "large_arr[int(0.05 * len(large_arr))] # 5% quantile"
   ]
  },
  {
   "cell_type": "markdown",
   "id": "a3235402",
   "metadata": {
    "papermill": {
     "duration": 0.040793,
     "end_time": "2022-07-13T09:10:01.784497",
     "exception": false,
     "start_time": "2022-07-13T09:10:01.743704",
     "status": "completed"
    },
    "tags": []
   },
   "source": [
    "### Unique and Other Set Logic"
   ]
  },
  {
   "cell_type": "code",
   "execution_count": 81,
   "id": "c5ec684c",
   "metadata": {
    "execution": {
     "iopub.execute_input": "2022-07-13T09:10:01.868256Z",
     "iopub.status.busy": "2022-07-13T09:10:01.867276Z",
     "iopub.status.idle": "2022-07-13T09:10:01.876831Z",
     "shell.execute_reply": "2022-07-13T09:10:01.875517Z"
    },
    "papermill": {
     "duration": 0.054111,
     "end_time": "2022-07-13T09:10:01.879269",
     "exception": false,
     "start_time": "2022-07-13T09:10:01.825158",
     "status": "completed"
    },
    "tags": []
   },
   "outputs": [
    {
     "data": {
      "text/plain": [
       "array([1, 2, 3, 4])"
      ]
     },
     "execution_count": 81,
     "metadata": {},
     "output_type": "execute_result"
    }
   ],
   "source": [
    "names = np.array(['Bob', 'Joe', 'Will', 'Bob', 'Will', 'Joe', 'Joe'])\n",
    "np.unique(names)\n",
    "ints = np.array([3, 3, 3, 2, 2, 1, 1, 4, 4])\n",
    "np.unique(ints)"
   ]
  },
  {
   "cell_type": "code",
   "execution_count": 82,
   "id": "1ce88a9a",
   "metadata": {
    "execution": {
     "iopub.execute_input": "2022-07-13T09:10:01.962504Z",
     "iopub.status.busy": "2022-07-13T09:10:01.962098Z",
     "iopub.status.idle": "2022-07-13T09:10:01.969350Z",
     "shell.execute_reply": "2022-07-13T09:10:01.968014Z"
    },
    "papermill": {
     "duration": 0.052018,
     "end_time": "2022-07-13T09:10:01.971935",
     "exception": false,
     "start_time": "2022-07-13T09:10:01.919917",
     "status": "completed"
    },
    "tags": []
   },
   "outputs": [
    {
     "data": {
      "text/plain": [
       "['Bob', 'Joe', 'Will']"
      ]
     },
     "execution_count": 82,
     "metadata": {},
     "output_type": "execute_result"
    }
   ],
   "source": [
    "sorted(set(names))"
   ]
  },
  {
   "cell_type": "code",
   "execution_count": 83,
   "id": "ca205845",
   "metadata": {
    "execution": {
     "iopub.execute_input": "2022-07-13T09:10:02.056276Z",
     "iopub.status.busy": "2022-07-13T09:10:02.055489Z",
     "iopub.status.idle": "2022-07-13T09:10:02.063968Z",
     "shell.execute_reply": "2022-07-13T09:10:02.062966Z"
    },
    "papermill": {
     "duration": 0.053555,
     "end_time": "2022-07-13T09:10:02.066337",
     "exception": false,
     "start_time": "2022-07-13T09:10:02.012782",
     "status": "completed"
    },
    "tags": []
   },
   "outputs": [
    {
     "data": {
      "text/plain": [
       "array([ True, False, False,  True,  True, False,  True])"
      ]
     },
     "execution_count": 83,
     "metadata": {},
     "output_type": "execute_result"
    }
   ],
   "source": [
    "values = np.array([6, 0, 0, 3, 2, 5, 6])\n",
    "np.in1d(values, [2, 3, 6])"
   ]
  },
  {
   "cell_type": "markdown",
   "id": "d57a8729",
   "metadata": {
    "papermill": {
     "duration": 0.040956,
     "end_time": "2022-07-13T09:10:02.148693",
     "exception": false,
     "start_time": "2022-07-13T09:10:02.107737",
     "status": "completed"
    },
    "tags": []
   },
   "source": [
    "## File Input and Output with Arrays"
   ]
  },
  {
   "cell_type": "code",
   "execution_count": 84,
   "id": "3631e405",
   "metadata": {
    "execution": {
     "iopub.execute_input": "2022-07-13T09:10:02.234724Z",
     "iopub.status.busy": "2022-07-13T09:10:02.233921Z",
     "iopub.status.idle": "2022-07-13T09:10:02.239913Z",
     "shell.execute_reply": "2022-07-13T09:10:02.238915Z"
    },
    "papermill": {
     "duration": 0.052258,
     "end_time": "2022-07-13T09:10:02.242398",
     "exception": false,
     "start_time": "2022-07-13T09:10:02.190140",
     "status": "completed"
    },
    "tags": []
   },
   "outputs": [],
   "source": [
    "arr = np.arange(10)\n",
    "np.save('some_array', arr)"
   ]
  },
  {
   "cell_type": "code",
   "execution_count": 85,
   "id": "713e39be",
   "metadata": {
    "execution": {
     "iopub.execute_input": "2022-07-13T09:10:02.390807Z",
     "iopub.status.busy": "2022-07-13T09:10:02.390387Z",
     "iopub.status.idle": "2022-07-13T09:10:02.399202Z",
     "shell.execute_reply": "2022-07-13T09:10:02.398162Z"
    },
    "papermill": {
     "duration": 0.117814,
     "end_time": "2022-07-13T09:10:02.401819",
     "exception": false,
     "start_time": "2022-07-13T09:10:02.284005",
     "status": "completed"
    },
    "tags": []
   },
   "outputs": [
    {
     "data": {
      "text/plain": [
       "array([0, 1, 2, 3, 4, 5, 6, 7, 8, 9])"
      ]
     },
     "execution_count": 85,
     "metadata": {},
     "output_type": "execute_result"
    }
   ],
   "source": [
    "np.load('some_array.npy')"
   ]
  },
  {
   "cell_type": "code",
   "execution_count": 86,
   "id": "d720d53f",
   "metadata": {
    "execution": {
     "iopub.execute_input": "2022-07-13T09:10:02.487279Z",
     "iopub.status.busy": "2022-07-13T09:10:02.486515Z",
     "iopub.status.idle": "2022-07-13T09:10:02.492547Z",
     "shell.execute_reply": "2022-07-13T09:10:02.491644Z"
    },
    "papermill": {
     "duration": 0.051501,
     "end_time": "2022-07-13T09:10:02.495003",
     "exception": false,
     "start_time": "2022-07-13T09:10:02.443502",
     "status": "completed"
    },
    "tags": []
   },
   "outputs": [],
   "source": [
    "np.savez('array_archive.npz', a=arr, b=arr)"
   ]
  },
  {
   "cell_type": "code",
   "execution_count": 87,
   "id": "fe8175d4",
   "metadata": {
    "execution": {
     "iopub.execute_input": "2022-07-13T09:10:02.581420Z",
     "iopub.status.busy": "2022-07-13T09:10:02.580682Z",
     "iopub.status.idle": "2022-07-13T09:10:02.590909Z",
     "shell.execute_reply": "2022-07-13T09:10:02.589696Z"
    },
    "papermill": {
     "duration": 0.056379,
     "end_time": "2022-07-13T09:10:02.593339",
     "exception": false,
     "start_time": "2022-07-13T09:10:02.536960",
     "status": "completed"
    },
    "tags": []
   },
   "outputs": [
    {
     "data": {
      "text/plain": [
       "array([0, 1, 2, 3, 4, 5, 6, 7, 8, 9])"
      ]
     },
     "execution_count": 87,
     "metadata": {},
     "output_type": "execute_result"
    }
   ],
   "source": [
    "arch = np.load('array_archive.npz')\n",
    "arch['b']"
   ]
  },
  {
   "cell_type": "code",
   "execution_count": 88,
   "id": "1d08b6d7",
   "metadata": {
    "execution": {
     "iopub.execute_input": "2022-07-13T09:10:02.678543Z",
     "iopub.status.busy": "2022-07-13T09:10:02.677792Z",
     "iopub.status.idle": "2022-07-13T09:10:02.683837Z",
     "shell.execute_reply": "2022-07-13T09:10:02.682914Z"
    },
    "papermill": {
     "duration": 0.051403,
     "end_time": "2022-07-13T09:10:02.686240",
     "exception": false,
     "start_time": "2022-07-13T09:10:02.634837",
     "status": "completed"
    },
    "tags": []
   },
   "outputs": [],
   "source": [
    "np.savez_compressed('arrays_compressed.npz', a=arr, b=arr)"
   ]
  },
  {
   "cell_type": "code",
   "execution_count": 89,
   "id": "2d626d01",
   "metadata": {
    "execution": {
     "iopub.execute_input": "2022-07-13T09:10:02.772418Z",
     "iopub.status.busy": "2022-07-13T09:10:02.771654Z",
     "iopub.status.idle": "2022-07-13T09:10:05.057416Z",
     "shell.execute_reply": "2022-07-13T09:10:05.055743Z"
    },
    "papermill": {
     "duration": 2.332162,
     "end_time": "2022-07-13T09:10:05.060687",
     "exception": false,
     "start_time": "2022-07-13T09:10:02.728525",
     "status": "completed"
    },
    "tags": []
   },
   "outputs": [],
   "source": [
    "!rm some_array.npy\n",
    "!rm array_archive.npz\n",
    "!rm arrays_compressed.npz"
   ]
  },
  {
   "cell_type": "markdown",
   "id": "5a3482ac",
   "metadata": {
    "papermill": {
     "duration": 0.041556,
     "end_time": "2022-07-13T09:10:05.146828",
     "exception": false,
     "start_time": "2022-07-13T09:10:05.105272",
     "status": "completed"
    },
    "tags": []
   },
   "source": [
    "## Linear Algebra"
   ]
  },
  {
   "cell_type": "code",
   "execution_count": 90,
   "id": "923a84b4",
   "metadata": {
    "execution": {
     "iopub.execute_input": "2022-07-13T09:10:05.232381Z",
     "iopub.status.busy": "2022-07-13T09:10:05.231958Z",
     "iopub.status.idle": "2022-07-13T09:10:05.242549Z",
     "shell.execute_reply": "2022-07-13T09:10:05.241367Z"
    },
    "papermill": {
     "duration": 0.056082,
     "end_time": "2022-07-13T09:10:05.244973",
     "exception": false,
     "start_time": "2022-07-13T09:10:05.188891",
     "status": "completed"
    },
    "tags": []
   },
   "outputs": [
    {
     "data": {
      "text/plain": [
       "array([[ 28.,  64.],\n",
       "       [ 67., 181.]])"
      ]
     },
     "execution_count": 90,
     "metadata": {},
     "output_type": "execute_result"
    }
   ],
   "source": [
    "x = np.array([[1., 2., 3.], [4., 5., 6.]])\n",
    "y = np.array([[6., 23.], [-1, 7], [8, 9]])\n",
    "x\n",
    "y\n",
    "x.dot(y)"
   ]
  },
  {
   "cell_type": "code",
   "execution_count": 91,
   "id": "da62ad3e",
   "metadata": {
    "execution": {
     "iopub.execute_input": "2022-07-13T09:10:05.330631Z",
     "iopub.status.busy": "2022-07-13T09:10:05.330203Z",
     "iopub.status.idle": "2022-07-13T09:10:05.337812Z",
     "shell.execute_reply": "2022-07-13T09:10:05.336850Z"
    },
    "papermill": {
     "duration": 0.052961,
     "end_time": "2022-07-13T09:10:05.340132",
     "exception": false,
     "start_time": "2022-07-13T09:10:05.287171",
     "status": "completed"
    },
    "tags": []
   },
   "outputs": [
    {
     "data": {
      "text/plain": [
       "array([[ 28.,  64.],\n",
       "       [ 67., 181.]])"
      ]
     },
     "execution_count": 91,
     "metadata": {},
     "output_type": "execute_result"
    }
   ],
   "source": [
    "np.dot(x, y)"
   ]
  },
  {
   "cell_type": "code",
   "execution_count": 92,
   "id": "5afeb0d3",
   "metadata": {
    "execution": {
     "iopub.execute_input": "2022-07-13T09:10:05.426632Z",
     "iopub.status.busy": "2022-07-13T09:10:05.426171Z",
     "iopub.status.idle": "2022-07-13T09:10:05.433343Z",
     "shell.execute_reply": "2022-07-13T09:10:05.432501Z"
    },
    "papermill": {
     "duration": 0.053219,
     "end_time": "2022-07-13T09:10:05.435544",
     "exception": false,
     "start_time": "2022-07-13T09:10:05.382325",
     "status": "completed"
    },
    "tags": []
   },
   "outputs": [
    {
     "data": {
      "text/plain": [
       "array([ 6., 15.])"
      ]
     },
     "execution_count": 92,
     "metadata": {},
     "output_type": "execute_result"
    }
   ],
   "source": [
    "np.dot(x, np.ones(3))"
   ]
  },
  {
   "cell_type": "code",
   "execution_count": 93,
   "id": "a4b7f20d",
   "metadata": {
    "execution": {
     "iopub.execute_input": "2022-07-13T09:10:05.523439Z",
     "iopub.status.busy": "2022-07-13T09:10:05.522779Z",
     "iopub.status.idle": "2022-07-13T09:10:05.531726Z",
     "shell.execute_reply": "2022-07-13T09:10:05.530460Z"
    },
    "papermill": {
     "duration": 0.056536,
     "end_time": "2022-07-13T09:10:05.534182",
     "exception": false,
     "start_time": "2022-07-13T09:10:05.477646",
     "status": "completed"
    },
    "tags": []
   },
   "outputs": [
    {
     "data": {
      "text/plain": [
       "array([ 6., 15.])"
      ]
     },
     "execution_count": 93,
     "metadata": {},
     "output_type": "execute_result"
    }
   ],
   "source": [
    "x @ np.ones(3)"
   ]
  },
  {
   "cell_type": "code",
   "execution_count": 94,
   "id": "24eba917",
   "metadata": {
    "execution": {
     "iopub.execute_input": "2022-07-13T09:10:05.623030Z",
     "iopub.status.busy": "2022-07-13T09:10:05.622648Z",
     "iopub.status.idle": "2022-07-13T09:10:05.650003Z",
     "shell.execute_reply": "2022-07-13T09:10:05.648236Z"
    },
    "papermill": {
     "duration": 0.076184,
     "end_time": "2022-07-13T09:10:05.654240",
     "exception": false,
     "start_time": "2022-07-13T09:10:05.578056",
     "status": "completed"
    },
    "tags": []
   },
   "outputs": [
    {
     "data": {
      "text/plain": [
       "array([[-1.6914,  4.38  ,  0.1757,  0.4075, -0.7838],\n",
       "       [ 0.    , -2.6436,  0.1939, -3.072 , -1.0702],\n",
       "       [ 0.    ,  0.    , -0.8138,  1.5414,  0.6155],\n",
       "       [ 0.    ,  0.    ,  0.    , -2.6445, -2.1669],\n",
       "       [ 0.    ,  0.    ,  0.    ,  0.    ,  0.0002]])"
      ]
     },
     "execution_count": 94,
     "metadata": {},
     "output_type": "execute_result"
    }
   ],
   "source": [
    "from numpy.linalg import inv, qr\n",
    "X = np.random.randn(5, 5)\n",
    "mat = X.T.dot(X)\n",
    "inv(mat)\n",
    "mat.dot(inv(mat))\n",
    "q, r = qr(mat)\n",
    "r"
   ]
  },
  {
   "cell_type": "markdown",
   "id": "abbe7250",
   "metadata": {
    "papermill": {
     "duration": 0.046111,
     "end_time": "2022-07-13T09:10:05.787772",
     "exception": false,
     "start_time": "2022-07-13T09:10:05.741661",
     "status": "completed"
    },
    "tags": []
   },
   "source": [
    "## Pseudorandom Number Generation"
   ]
  },
  {
   "cell_type": "code",
   "execution_count": 95,
   "id": "43f52b15",
   "metadata": {
    "execution": {
     "iopub.execute_input": "2022-07-13T09:10:05.875489Z",
     "iopub.status.busy": "2022-07-13T09:10:05.874404Z",
     "iopub.status.idle": "2022-07-13T09:10:05.881860Z",
     "shell.execute_reply": "2022-07-13T09:10:05.881012Z"
    },
    "papermill": {
     "duration": 0.053338,
     "end_time": "2022-07-13T09:10:05.883978",
     "exception": false,
     "start_time": "2022-07-13T09:10:05.830640",
     "status": "completed"
    },
    "tags": []
   },
   "outputs": [
    {
     "data": {
      "text/plain": [
       "array([[ 0.5732,  0.1933,  0.4429,  1.2796],\n",
       "       [ 0.575 ,  0.4339, -0.7658, -1.237 ],\n",
       "       [-0.5367,  1.8545, -0.92  , -0.1082],\n",
       "       [ 0.1525,  0.9435, -1.0953, -0.144 ]])"
      ]
     },
     "execution_count": 95,
     "metadata": {},
     "output_type": "execute_result"
    }
   ],
   "source": [
    "samples = np.random.normal(size=(4, 4))\n",
    "samples"
   ]
  },
  {
   "cell_type": "code",
   "execution_count": 96,
   "id": "e02ab421",
   "metadata": {
    "execution": {
     "iopub.execute_input": "2022-07-13T09:10:05.971979Z",
     "iopub.status.busy": "2022-07-13T09:10:05.971573Z",
     "iopub.status.idle": "2022-07-13T09:10:19.332101Z",
     "shell.execute_reply": "2022-07-13T09:10:19.330759Z"
    },
    "papermill": {
     "duration": 13.40759,
     "end_time": "2022-07-13T09:10:19.334544",
     "exception": false,
     "start_time": "2022-07-13T09:10:05.926954",
     "status": "completed"
    },
    "tags": []
   },
   "outputs": [
    {
     "name": "stdout",
     "output_type": "stream",
     "text": [
      "1.33 s ± 12.3 ms per loop (mean ± std. dev. of 7 runs, 1 loop each)\n",
      "31.1 ms ± 218 µs per loop (mean ± std. dev. of 7 runs, 10 loops each)\n"
     ]
    }
   ],
   "source": [
    "from random import normalvariate\n",
    "N = 1000000\n",
    "%timeit samples = [normalvariate(0, 1) for _ in range(N)]\n",
    "%timeit np.random.normal(size=N)"
   ]
  },
  {
   "cell_type": "code",
   "execution_count": 97,
   "id": "a2d8cf98",
   "metadata": {
    "execution": {
     "iopub.execute_input": "2022-07-13T09:10:19.423086Z",
     "iopub.status.busy": "2022-07-13T09:10:19.422396Z",
     "iopub.status.idle": "2022-07-13T09:10:19.427194Z",
     "shell.execute_reply": "2022-07-13T09:10:19.425929Z"
    },
    "papermill": {
     "duration": 0.052086,
     "end_time": "2022-07-13T09:10:19.429683",
     "exception": false,
     "start_time": "2022-07-13T09:10:19.377597",
     "status": "completed"
    },
    "tags": []
   },
   "outputs": [],
   "source": [
    "np.random.seed(1234)"
   ]
  },
  {
   "cell_type": "code",
   "execution_count": 98,
   "id": "467dcdb9",
   "metadata": {
    "execution": {
     "iopub.execute_input": "2022-07-13T09:10:19.518806Z",
     "iopub.status.busy": "2022-07-13T09:10:19.518375Z",
     "iopub.status.idle": "2022-07-13T09:10:19.527669Z",
     "shell.execute_reply": "2022-07-13T09:10:19.526371Z"
    },
    "papermill": {
     "duration": 0.056983,
     "end_time": "2022-07-13T09:10:19.529955",
     "exception": false,
     "start_time": "2022-07-13T09:10:19.472972",
     "status": "completed"
    },
    "tags": []
   },
   "outputs": [
    {
     "data": {
      "text/plain": [
       "array([ 0.4714, -1.191 ,  1.4327, -0.3127, -0.7206,  0.8872,  0.8596,\n",
       "       -0.6365,  0.0157, -2.2427])"
      ]
     },
     "execution_count": 98,
     "metadata": {},
     "output_type": "execute_result"
    }
   ],
   "source": [
    "rng = np.random.RandomState(1234)\n",
    "rng.randn(10)"
   ]
  },
  {
   "cell_type": "markdown",
   "id": "e40b503a",
   "metadata": {
    "papermill": {
     "duration": 0.043172,
     "end_time": "2022-07-13T09:10:19.616661",
     "exception": false,
     "start_time": "2022-07-13T09:10:19.573489",
     "status": "completed"
    },
    "tags": []
   },
   "source": [
    "## Example: Random Walks"
   ]
  },
  {
   "cell_type": "code",
   "execution_count": 99,
   "id": "afb0d899",
   "metadata": {
    "execution": {
     "iopub.execute_input": "2022-07-13T09:10:19.704856Z",
     "iopub.status.busy": "2022-07-13T09:10:19.704434Z",
     "iopub.status.idle": "2022-07-13T09:10:19.713108Z",
     "shell.execute_reply": "2022-07-13T09:10:19.711849Z"
    },
    "papermill": {
     "duration": 0.056162,
     "end_time": "2022-07-13T09:10:19.715779",
     "exception": false,
     "start_time": "2022-07-13T09:10:19.659617",
     "status": "completed"
    },
    "tags": []
   },
   "outputs": [],
   "source": [
    "import random\n",
    "position = 0\n",
    "walk = [position]\n",
    "steps = 1000\n",
    "for i in range(steps):\n",
    "    step = 1 if random.randint(0, 1) else -1\n",
    "    position += step\n",
    "    walk.append(position)"
   ]
  },
  {
   "cell_type": "code",
   "execution_count": 100,
   "id": "4399d7e7",
   "metadata": {
    "execution": {
     "iopub.execute_input": "2022-07-13T09:10:19.804859Z",
     "iopub.status.busy": "2022-07-13T09:10:19.804466Z",
     "iopub.status.idle": "2022-07-13T09:10:19.813714Z",
     "shell.execute_reply": "2022-07-13T09:10:19.812852Z"
    },
    "papermill": {
     "duration": 0.056304,
     "end_time": "2022-07-13T09:10:19.815841",
     "exception": false,
     "start_time": "2022-07-13T09:10:19.759537",
     "status": "completed"
    },
    "tags": []
   },
   "outputs": [
    {
     "data": {
      "text/plain": [
       "<Figure size 720x432 with 0 Axes>"
      ]
     },
     "execution_count": 100,
     "metadata": {},
     "output_type": "execute_result"
    },
    {
     "data": {
      "text/plain": [
       "<Figure size 720x432 with 0 Axes>"
      ]
     },
     "metadata": {},
     "output_type": "display_data"
    }
   ],
   "source": [
    "plt.figure()"
   ]
  },
  {
   "cell_type": "code",
   "execution_count": 101,
   "id": "1318f55b",
   "metadata": {
    "execution": {
     "iopub.execute_input": "2022-07-13T09:10:19.905354Z",
     "iopub.status.busy": "2022-07-13T09:10:19.904969Z",
     "iopub.status.idle": "2022-07-13T09:10:20.127413Z",
     "shell.execute_reply": "2022-07-13T09:10:20.126058Z"
    },
    "papermill": {
     "duration": 0.270069,
     "end_time": "2022-07-13T09:10:20.129910",
     "exception": false,
     "start_time": "2022-07-13T09:10:19.859841",
     "status": "completed"
    },
    "tags": []
   },
   "outputs": [
    {
     "data": {
      "text/plain": [
       "[<matplotlib.lines.Line2D at 0x7fc543bc8110>]"
      ]
     },
     "execution_count": 101,
     "metadata": {},
     "output_type": "execute_result"
    },
    {
     "data": {
      "image/png": "[encoded data removed]",
      "text/plain": [
       "<Figure size 720x432 with 1 Axes>"
      ]
     },
     "metadata": {
      "needs_background": "light"
     },
     "output_type": "display_data"
    }
   ],
   "source": [
    "plt.plot(walk[:100])"
   ]
  },
  {
   "cell_type": "code",
   "execution_count": 102,
   "id": "14d68301",
   "metadata": {
    "execution": {
     "iopub.execute_input": "2022-07-13T09:10:20.221145Z",
     "iopub.status.busy": "2022-07-13T09:10:20.220767Z",
     "iopub.status.idle": "2022-07-13T09:10:20.225839Z",
     "shell.execute_reply": "2022-07-13T09:10:20.224521Z"
    },
    "papermill": {
     "duration": 0.053688,
     "end_time": "2022-07-13T09:10:20.228260",
     "exception": false,
     "start_time": "2022-07-13T09:10:20.174572",
     "status": "completed"
    },
    "tags": []
   },
   "outputs": [],
   "source": [
    "np.random.seed(12345)"
   ]
  },
  {
   "cell_type": "code",
   "execution_count": 103,
   "id": "028df044",
   "metadata": {
    "execution": {
     "iopub.execute_input": "2022-07-13T09:10:20.319788Z",
     "iopub.status.busy": "2022-07-13T09:10:20.319117Z",
     "iopub.status.idle": "2022-07-13T09:10:20.325047Z",
     "shell.execute_reply": "2022-07-13T09:10:20.324169Z"
    },
    "papermill": {
     "duration": 0.054469,
     "end_time": "2022-07-13T09:10:20.327240",
     "exception": false,
     "start_time": "2022-07-13T09:10:20.272771",
     "status": "completed"
    },
    "tags": []
   },
   "outputs": [],
   "source": [
    "nsteps = 1000\n",
    "draws = np.random.randint(0, 2, size=nsteps)\n",
    "steps = np.where(draws > 0, 1, -1)\n",
    "walk = steps.cumsum()"
   ]
  },
  {
   "cell_type": "code",
   "execution_count": 104,
   "id": "9d974634",
   "metadata": {
    "execution": {
     "iopub.execute_input": "2022-07-13T09:10:20.418489Z",
     "iopub.status.busy": "2022-07-13T09:10:20.417763Z",
     "iopub.status.idle": "2022-07-13T09:10:20.424021Z",
     "shell.execute_reply": "2022-07-13T09:10:20.423183Z"
    },
    "papermill": {
     "duration": 0.0544,
     "end_time": "2022-07-13T09:10:20.426161",
     "exception": false,
     "start_time": "2022-07-13T09:10:20.371761",
     "status": "completed"
    },
    "tags": []
   },
   "outputs": [
    {
     "data": {
      "text/plain": [
       "31"
      ]
     },
     "execution_count": 104,
     "metadata": {},
     "output_type": "execute_result"
    }
   ],
   "source": [
    "walk.min()\n",
    "walk.max()"
   ]
  },
  {
   "cell_type": "code",
   "execution_count": 105,
   "id": "a0503187",
   "metadata": {
    "execution": {
     "iopub.execute_input": "2022-07-13T09:10:20.517300Z",
     "iopub.status.busy": "2022-07-13T09:10:20.516905Z",
     "iopub.status.idle": "2022-07-13T09:10:20.524038Z",
     "shell.execute_reply": "2022-07-13T09:10:20.522954Z"
    },
    "papermill": {
     "duration": 0.055403,
     "end_time": "2022-07-13T09:10:20.526250",
     "exception": false,
     "start_time": "2022-07-13T09:10:20.470847",
     "status": "completed"
    },
    "tags": []
   },
   "outputs": [
    {
     "data": {
      "text/plain": [
       "37"
      ]
     },
     "execution_count": 105,
     "metadata": {},
     "output_type": "execute_result"
    }
   ],
   "source": [
    "(np.abs(walk) >= 10).argmax()"
   ]
  },
  {
   "cell_type": "markdown",
   "id": "2beaddac",
   "metadata": {
    "papermill": {
     "duration": 0.044666,
     "end_time": "2022-07-13T09:10:20.615568",
     "exception": false,
     "start_time": "2022-07-13T09:10:20.570902",
     "status": "completed"
    },
    "tags": []
   },
   "source": [
    "### Simulating Many Random Walks at Once"
   ]
  },
  {
   "cell_type": "code",
   "execution_count": 106,
   "id": "bc37d13e",
   "metadata": {
    "execution": {
     "iopub.execute_input": "2022-07-13T09:10:20.707561Z",
     "iopub.status.busy": "2022-07-13T09:10:20.707140Z",
     "iopub.status.idle": "2022-07-13T09:10:20.819984Z",
     "shell.execute_reply": "2022-07-13T09:10:20.818823Z"
    },
    "papermill": {
     "duration": 0.161869,
     "end_time": "2022-07-13T09:10:20.822616",
     "exception": false,
     "start_time": "2022-07-13T09:10:20.660747",
     "status": "completed"
    },
    "tags": []
   },
   "outputs": [
    {
     "data": {
      "text/plain": [
       "array([[  1,   0,   1, ...,   8,   7,   8],\n",
       "       [  1,   0,  -1, ...,  34,  33,  32],\n",
       "       [  1,   0,  -1, ...,   4,   5,   4],\n",
       "       ...,\n",
       "       [  1,   2,   1, ...,  24,  25,  26],\n",
       "       [  1,   2,   3, ...,  14,  13,  14],\n",
       "       [ -1,  -2,  -3, ..., -24, -23, -22]])"
      ]
     },
     "execution_count": 106,
     "metadata": {},
     "output_type": "execute_result"
    }
   ],
   "source": [
    "nwalks = 5000\n",
    "nsteps = 1000\n",
    "draws = np.random.randint(0, 2, size=(nwalks, nsteps)) # 0 or 1\n",
    "steps = np.where(draws > 0, 1, -1)\n",
    "walks = steps.cumsum(1)\n",
    "walks"
   ]
  },
  {
   "cell_type": "code",
   "execution_count": 107,
   "id": "31052f88",
   "metadata": {
    "execution": {
     "iopub.execute_input": "2022-07-13T09:10:20.915186Z",
     "iopub.status.busy": "2022-07-13T09:10:20.914484Z",
     "iopub.status.idle": "2022-07-13T09:10:20.932608Z",
     "shell.execute_reply": "2022-07-13T09:10:20.931378Z"
    },
    "papermill": {
     "duration": 0.0669,
     "end_time": "2022-07-13T09:10:20.935175",
     "exception": false,
     "start_time": "2022-07-13T09:10:20.868275",
     "status": "completed"
    },
    "tags": []
   },
   "outputs": [
    {
     "data": {
      "text/plain": [
       "-133"
      ]
     },
     "execution_count": 107,
     "metadata": {},
     "output_type": "execute_result"
    }
   ],
   "source": [
    "walks.max()\n",
    "walks.min()"
   ]
  },
  {
   "cell_type": "code",
   "execution_count": 108,
   "id": "605af28e",
   "metadata": {
    "execution": {
     "iopub.execute_input": "2022-07-13T09:10:21.027853Z",
     "iopub.status.busy": "2022-07-13T09:10:21.027417Z",
     "iopub.status.idle": "2022-07-13T09:10:21.060790Z",
     "shell.execute_reply": "2022-07-13T09:10:21.059495Z"
    },
    "papermill": {
     "duration": 0.082668,
     "end_time": "2022-07-13T09:10:21.063158",
     "exception": false,
     "start_time": "2022-07-13T09:10:20.980490",
     "status": "completed"
    },
    "tags": []
   },
   "outputs": [
    {
     "data": {
      "text/plain": [
       "3410"
      ]
     },
     "execution_count": 108,
     "metadata": {},
     "output_type": "execute_result"
    }
   ],
   "source": [
    "hits30 = (np.abs(walks) >= 30).any(1)\n",
    "hits30\n",
    "hits30.sum() # Number that hit 30 or -30"
   ]
  },
  {
   "cell_type": "code",
   "execution_count": 109,
   "id": "bd736b03",
   "metadata": {
    "execution": {
     "iopub.execute_input": "2022-07-13T09:10:21.156554Z",
     "iopub.status.busy": "2022-07-13T09:10:21.155846Z",
     "iopub.status.idle": "2022-07-13T09:10:21.190632Z",
     "shell.execute_reply": "2022-07-13T09:10:21.189362Z"
    },
    "papermill": {
     "duration": 0.084496,
     "end_time": "2022-07-13T09:10:21.193242",
     "exception": false,
     "start_time": "2022-07-13T09:10:21.108746",
     "status": "completed"
    },
    "tags": []
   },
   "outputs": [
    {
     "data": {
      "text/plain": [
       "498.8897360703812"
      ]
     },
     "execution_count": 109,
     "metadata": {},
     "output_type": "execute_result"
    }
   ],
   "source": [
    "crossing_times = (np.abs(walks[hits30]) >= 30).argmax(1)\n",
    "crossing_times.mean()"
   ]
  },
  {
   "cell_type": "code",
   "execution_count": 110,
   "id": "b96682d3",
   "metadata": {
    "execution": {
     "iopub.execute_input": "2022-07-13T09:10:21.287372Z",
     "iopub.status.busy": "2022-07-13T09:10:21.286968Z",
     "iopub.status.idle": "2022-07-13T09:10:21.450801Z",
     "shell.execute_reply": "2022-07-13T09:10:21.449443Z"
    },
    "papermill": {
     "duration": 0.214141,
     "end_time": "2022-07-13T09:10:21.453562",
     "exception": false,
     "start_time": "2022-07-13T09:10:21.239421",
     "status": "completed"
    },
    "tags": []
   },
   "outputs": [],
   "source": [
    "steps = np.random.normal(loc=0, scale=0.25,\n",
    "                         size=(nwalks, nsteps))"
   ]
  },
  {
   "cell_type": "markdown",
   "id": "2ef75fdc",
   "metadata": {
    "papermill": {
     "duration": 0.04645,
     "end_time": "2022-07-13T09:10:21.545930",
     "exception": false,
     "start_time": "2022-07-13T09:10:21.499480",
     "status": "completed"
    },
    "tags": []
   },
   "source": [
    "## Conclusion"
   ]
  }
 ],
 "metadata": {
  "kernelspec": {
   "display_name": "Python 3",
   "language": "python",
   "name": "python3"
  },
  "language_info": {
   "codemirror_mode": {
    "name": "ipython",
    "version": 3
   },
   "file_extension": ".py",
   "mimetype": "text/x-python",
   "name": "python",
   "nbconvert_exporter": "python",
   "pygments_lexer": "ipython3",
   "version": "3.7.12"
  },
  "papermill": {
   "default_parameters": {},
   "duration": 39.739504,
   "end_time": "2022-07-13T09:10:22.314310",
   "environment_variables": {},
   "exception": null,
   "input_path": "__notebook__.ipynb",
   "output_path": "__notebook__.ipynb",
   "parameters": {},
   "start_time": "2022-07-13T09:09:42.574806",
   "version": "2.3.4"
  }
 },
 "nbformat": 4,
 "nbformat_minor": 5
}
